{
 "cells": [
  {
   "cell_type": "markdown",
   "metadata": {},
   "source": [
    "# gopigo3 model & control"
   ]
  },
  {
   "cell_type": "markdown",
   "metadata": {},
   "source": [
    "The objectives of this chapter are:\n",
    "- Create a model of our gopigo3 robot \n",
    "- use rviz package to view the different topics and nodes\n",
    "- create a model of the virtual environment\n",
    "- use gazebo package to simulate the robot kinematics and dynamics\n",
    "- locate the robot in our created environment\n",
    "- create our firsts programs to control the robot movement with obstacle avoidance\n",
    "\n",
    "\n",
    "The final model represents the real gopigo3 robot we will use in the laboratory\n",
    "\n",
    "Interesting complementary information could be found:\n",
    "\n",
    "https://brjapon.medium.com/learning-robotics-with-ros-made-easy-12197c918dab\n",
    "\n",
    "http://wiki.ros.org/Robots/gopigo3\n",
    "\n",
    "https://robots.ros.org/gopigo3/\n",
    "\n",
    "https://github.com/ros-gopigo3/gopigo3\n",
    "\n",
    "https://bitbucket.org/theconstructcore/two-wheeled-robot-motion-planning/src/master/\n"
   ]
  },
  {
   "cell_type": "markdown",
   "metadata": {},
   "source": [
    "![Getting Starter](./Images/1_gopigo3_UB.png)"
   ]
  },
  {
   "cell_type": "markdown",
   "metadata": {},
   "source": [
    "## 1. rUBot gopigo3 model generation\n",
    "\n",
    "First of all, we have to create the \"gopigo3_description\" package containing the gopigo3 model:"
   ]
  },
  {
   "cell_type": "code",
   "execution_count": null,
   "metadata": {},
   "outputs": [],
   "source": [
    "cd ~/rubot_gopigo_ws/src\n",
    "catkin_create_pkg gopigo3_description rospy\n",
    "cd ..\n",
    "catkin_make"
   ]
  },
  {
   "cell_type": "markdown",
   "metadata": {},
   "source": [
    "Then open the .bashrc file and verify the environment variables and source to the proper workspace:\n",
    "\n",
    "source ~/rubot_gopigo_ws/devel/setup.bash"
   ]
  },
  {
   "cell_type": "markdown",
   "metadata": {},
   "source": [
    "To create our robot model, we use URDF files (Unified Robot Description Format). URDF file is an XML format file for representing a robot model.(http://wiki.ros.org/urdf/Tutorials)\n",
    "\n",
    "We have created 2 folders for model description:\n",
    "- URDF: folder where different URDF models are located\n",
    "- meshes: folder where 3D body models in stl format are located.\n",
    "\n",
    "You can reduce the amount of code in a URDF file using Xacro package. With this package you can use constants, simple math and macros to create your robot model easier and compact."
   ]
  },
  {
   "cell_type": "markdown",
   "metadata": {},
   "source": [
    "The main parts of URDF model are:\n",
    "- links: diferent bodies/plastic elements\n",
    "- joints: connection between 2 links \n",
    "- sensors & actuators plugins (2D camera, LIDAR and DC motors)\n",
    "\n",
    "The link definition contains:\n",
    "- visual properties: the origin, geometry and material\n",
    "- collision properties: the origin and geomnetry\n",
    "- inertial properties: the origin, mass and inertia matrix\n",
    "\n",
    "The joint definition contains:\n",
    "- joint Type (fixed, continuous)\n",
    "- parent and child frames\n",
    "- origin frame\n",
    "- rotation axis\n",
    "\n",
    "In the case or wright wheel:"
   ]
  },
  {
   "cell_type": "code",
   "execution_count": null,
   "metadata": {},
   "outputs": [],
   "source": [
    "<!-- Right Wheel -->\n",
    "  <link name=\"right_wheel\">\n",
    "    <visual>\n",
    "      <origin xyz=\"0 0 0\" rpy=\"1.570795 0 0\" />\n",
    "      <geometry>\n",
    "          <cylinder length=\"0.05\" radius=\"0.1\" />\n",
    "      </geometry>\n",
    "      <material name=\"orange\"/>\n",
    "    </visual>\n",
    "    <collision>\n",
    "      <origin xyz=\"0 0 0\" rpy=\"1.570795 0 0\" />\n",
    "      <geometry>\n",
    "          <cylinder length=\"0.05\" radius=\"0.1\" />\n",
    "      </geometry>\n",
    "    </collision>\n",
    "    <inertial>\n",
    "      <origin xyz=\"0 0 0\" rpy=\"1.570795 0 0\" />\n",
    "      <mass value=\"0.15\"/>\n",
    "      <inertia ixx=\"0.01\" ixy=\"0.0\" ixz=\"0.0\" iyy=\"0.005\" iyz=\"0.0\" izz=\"0.005\"/>\n",
    "    </inertial>\n",
    "  </link>\n",
    "  \n",
    "  <!-- Right Wheel joint -->\n",
    "  <joint name=\"joint_right_wheel\" type=\"continuous\">\n",
    "    <parent link=\"base_link\"/>\n",
    "    <child link=\"right_wheel\"/>\n",
    "    <origin xyz=\"0 -0.30 0.025\" rpy=\"0 0 0\" /> \n",
    "    <axis xyz=\"0 1 0\" />\n",
    "  </joint>"
   ]
  },
  {
   "cell_type": "markdown",
   "metadata": {},
   "source": [
    "The gopigo3 model includes different sensors and actuators:\n",
    "\n",
    "Sensors:\n",
    "- a two-dimensional camera: correspondas to RBPi camera\n",
    "- a 360º LIDAR sensor: corresponds to the EAI YDLIDAR X4 (https://www.robotshop.com/es/es/escaner-laser-360-ydlidar-x4.html) or RPLidar A1M8 (https://www.robotshop.com/es/es/rplidar-a1m8-kit-desarrollo-escaner-laser-360-grados.html)\n",
    "\n",
    "Actuator:\n",
    "- Differential drive actuator: based on 2 DC motors with encoders to obtain the Odometry information\n",
    "\n",
    "The full model contains also information about the sensor and actuator controllers using specific Gazebo plugins (http://gazebosim.org/tutorials?tut=ros_gzplugins#Tutorial:UsingGazebopluginswithROS). \n",
    "\n",
    "Gazebo plugins give your URDF models greater functionality and compatible with ROS messages and service calls for sensor output and motor input. \n",
    "\n",
    "These plugins can be referenced through a URDF file, and to insert them in the URDF file, you have to follow the sintax:\n",
    "- for Differential drive actuator:"
   ]
  },
  {
   "cell_type": "code",
   "execution_count": null,
   "metadata": {},
   "outputs": [],
   "source": [
    " <!-- Differential Drive Controller -->\n",
    "  <gazebo>\n",
    "    <plugin filename=\"libgazebo_ros_diff_drive.so\" name=\"gopigo3_controller\">\n",
    "      <commandTopic>cmd_vel</commandTopic>\n",
    "      <odometryTopic>odom</odometryTopic>\n",
    "      <odometryFrame>odom</odometryFrame>\n",
    "      <odometrySource>world</odometrySource>\n",
    "      <publishOdomTF>true</publishOdomTF>\n",
    "      <robotBaseFrame>base_footprint</robotBaseFrame>\n",
    "      <publishWheelTF>false</publishWheelTF>\n",
    "      <publishTf>true</publishTf>\n",
    "      <publishWheelJointState>true</publishWheelJointState>\n",
    "      <legacyMode>false</legacyMode>\n",
    "      <updateRate>30</updateRate>\n",
    "      <leftJoint>wheel_left_joint</leftJoint>\n",
    "      <rightJoint>wheel_right_joint</rightJoint>\n",
    "      <wheelSeparation>0.116</wheelSeparation>\n",
    "      <wheelDiameter>0.066</wheelDiameter>\n",
    "      <wheelAcceleration>0.5</wheelAcceleration>\n",
    "      <wheelTorque>1</wheelTorque>\n",
    "      <rosDebugLevel>na</rosDebugLevel>\n",
    "    </plugin>\n",
    "  </gazebo>"
   ]
  },
  {
   "cell_type": "markdown",
   "metadata": {},
   "source": [
    "In this gazebo plugin, the kinematics of the robot configuration is defined:\n",
    "- Forward kinematics: obtaining the robot POSE (odometry) with the robot wheel speeds information\n",
    "- Inverse kinematics: obtaining the robot wheels speds to reach specific robot POSE (odometry)\n",
    "\n",
    "The equations are sumarized below"
   ]
  },
  {
   "cell_type": "markdown",
   "metadata": {},
   "source": [
    "![Getting Starter](./Images/1_Drive_kine.png)"
   ]
  },
  {
   "cell_type": "markdown",
   "metadata": {},
   "source": [
    "- for Raspicam sensor plugins:"
   ]
  },
  {
   "cell_type": "code",
   "execution_count": null,
   "metadata": {},
   "outputs": [],
   "source": [
    "  <!-- 2D Camera controller -->\n",
    "  <gazebo reference=\"camera_rgb_frame\">\n",
    "    <sensor name=\"camera1\" type=\"camera\">\n",
    "      <always_on>true</always_on>\n",
    "      <visualize>false</visualize>\n",
    "      <camera name=\"front\">\n",
    "        <horizontal_fov>1.3962634</horizontal_fov>\n",
    "        <image>\n",
    "          <width>800</width>\n",
    "          <height>800</height>\n",
    "          <format>R8G8B8</format>\n",
    "        </image>\n",
    "        <clip>\n",
    "          <near>0.02</near>\n",
    "          <far>300</far>\n",
    "        </clip>\n",
    "      </camera>\n",
    "      <plugin filename=\"libgazebo_ros_camera.so\" name=\"camera_controller\">\n",
    "        <alwaysOn>true</alwaysOn>\n",
    "        <updateRate>30.0</updateRate>\n",
    "        <cameraName>gopigo/camera1</cameraName>\n",
    "        <imageTopicName>image_raw</imageTopicName>\n",
    "        <cameraInfoTopicName>camera_info</cameraInfoTopicName>\n",
    "        <frameName>camera_rgb_frame</frameName>\n",
    "        <hackBaseline>0.07</hackBaseline>\n",
    "        <distortionK1>0.0</distortionK1>\n",
    "        <distortionK2>0.0</distortionK2>\n",
    "        <distortionK3>0.0</distortionK3>\n",
    "        <distortionT1>0.0</distortionT1>\n",
    "        <distortionT2>0.0</distortionT2>\n",
    "      </plugin>\n",
    "    </sensor>\n",
    "  </gazebo>"
   ]
  },
  {
   "cell_type": "markdown",
   "metadata": {},
   "source": [
    "- for LIDAR sensor plugin:"
   ]
  },
  {
   "cell_type": "code",
   "execution_count": null,
   "metadata": {},
   "outputs": [],
   "source": [
    "  <!-- Laser Distance Sensor YDLIDAR X4 controller-->\n",
    "  <gazebo reference=\"base_scan\">\n",
    "    <material>Gazebo/FlatBlack</material>\n",
    "    <sensor name=\"lds_lfcd_sensor\" type=\"ray\">\n",
    "      <pose>0 0 0 0 0 0</pose>\n",
    "      <visualize>false</visualize>\n",
    "      <update_rate>10</update_rate>\n",
    "      <ray>\n",
    "        <scan>\n",
    "          <horizontal>\n",
    "            <samples>720</samples>\n",
    "            <resolution>1</resolution>\n",
    "            <min_angle>0.0</min_angle>\n",
    "            <max_angle>6.28319</max_angle>\n",
    "          </horizontal>\n",
    "        </scan>\n",
    "        <range>\n",
    "          <min>0.120</min>\n",
    "          <max>10</max>\n",
    "          <resolution>0.015</resolution>\n",
    "        </range>\n",
    "        <noise>\n",
    "          <type>gaussian</type>\n",
    "          <!-- Noise parameters based on published spec for YDLIDAR X4\n",
    "               is 1.5% at half range 4m (= 60mm, \"+-160mm\" accuracy at max. range 8m).\n",
    "               A mean of 0.0m and stddev of 0.020m will put 99.7% of samples\n",
    "               within 0.16m of the true reading. -->\n",
    "          <mean>0.0</mean>\n",
    "          <stddev>0.02</stddev>\n",
    "        </noise>\n",
    "      </ray>\n",
    "      <plugin filename=\"libgazebo_ros_laser.so\" name=\"gazebo_ros_lds_lfcd_controller\">\n",
    "        <topicName>scan</topicName>\n",
    "        <frameName>base_scan</frameName>\n",
    "      </plugin>\n",
    "    </sensor>\n",
    "  </gazebo>"
   ]
  },
  {
   "cell_type": "markdown",
   "metadata": {},
   "source": [
    "#### Generated models in URDF\n",
    "The diferent model files we have created in urdf folder are:\n",
    "- gopigo3_v1.urdf: includes only the geometrical description of gopigo robot.\n",
    "- gopigo3_v2.urdf: includes sensors and actuator:\n",
    "    - the 2D camera and LDS sensors\n",
    "    - the differential drive actuator\n",
    "- gopigo3_v3.urdf: includes sensors and actuator:\n",
    "    - the 2D camera, LDS and LIDAR sensors\n",
    "    - the differential drive actuator\n",
    "- gopigo3_v4.gazebo: includes corrections in the proposed model:\n",
    "    - base_link geometry and inertia\n",
    "    - 2D camera real position\n",
    "    - LIDAR scaling and orientation\n",
    "\n",
    "We use a specific \"display.launch\" launch file where we specify the robot model we want to open in rviz with a configuration specified in \"urdf.rviz\":"
   ]
  },
  {
   "cell_type": "code",
   "execution_count": null,
   "metadata": {},
   "outputs": [],
   "source": [
    "<?xml version=\"1.0\"?>\n",
    "<launch>\n",
    "  <!-- set these parameters on Parameter Server -->\n",
    "  <param name=\"robot_description\" textfile=\"$(find gopigo3_description)/urdf/gopigo3.urdf\" />\n",
    "  <!-- send fake joint values -->\n",
    "  <node name=\"joint_state_publisher\" pkg=\"joint_state_publisher\" type=\"joint_state_publisher\">\n",
    "    <param name=\"use_gui\" value=\"False\"/>\n",
    "  </node>\n",
    "  <!-- Combine joint values -->\n",
    "  <node name=\"robot_state_publisher\" pkg=\"robot_state_publisher\" type=\"robot_state_publisher\"/>\n",
    "  <!-- Show in Rviz   -->\n",
    "  <node name=\"rviz\" pkg=\"rviz\" type=\"rviz\" args=\"-d $(find gopigo3_description)/rviz/urdf.rviz\"/>\n",
    "</launch>"
   ]
  },
  {
   "cell_type": "markdown",
   "metadata": {},
   "source": [
    "Launch the ROS visualization tool to check that the model is properly built. \n",
    "RViz only represents the robot visual features. You have available all the options to check every aspect of the appearance of the model"
   ]
  },
  {
   "cell_type": "code",
   "execution_count": null,
   "metadata": {},
   "outputs": [],
   "source": [
    "roslaunch gopigo3_description display.launch"
   ]
  },
  {
   "cell_type": "markdown",
   "metadata": {},
   "source": [
    "![Getting Starter](./Images/1_gopigo_basic_rviz.png)"
   ]
  },
  {
   "cell_type": "markdown",
   "metadata": {},
   "source": [
    "![Getting Starter](./Images/1_gopigo3_rviz.png)"
   ]
  },
  {
   "cell_type": "markdown",
   "metadata": {},
   "source": [
    "### gopigo3 model improvements\n",
    "Some modifications in the initial model \"gopigo3_init.gazebo\" have been made to:\n",
    "- locate the LIDAR in the correct position\n",
    "- locate the camera axis in front position to see properly"
   ]
  },
  {
   "cell_type": "markdown",
   "metadata": {},
   "source": [
    "Special attention has to be done to the YDLIDAR sensor.\n",
    "\n",
    "- YDLIDAR X4 is a 360-degree two-dimensional rangefinder (hereinafter referred to as X4) developed by YDLIDAR team. \n",
    "- Based on the principle of triangulation, it is equipped with related optics, electronics and algorithm design to achieve high-frequency and high-precision distance measurement. \n",
    "- The mechanical structure rotates 360 degrees to continuously output the angle information as well as the point cloud data of the scanning environment while ranging.\n",
    "- 10m Ranging distance (2cm absolute error)"
   ]
  },
  {
   "cell_type": "markdown",
   "metadata": {},
   "source": [
    "![Getting Started](./Images/1_ydlidar.png)"
   ]
  },
  {
   "cell_type": "markdown",
   "metadata": {},
   "source": [
    "It is important to note that:\n",
    "- the number of points of real YDLidar is 720 (one each half degree)\n",
    "- the number of points of simulated Lidar has to be adapted to the same 720 (by default is 360 (one each degree))"
   ]
  },
  {
   "cell_type": "markdown",
   "metadata": {},
   "source": [
    "#### Using Xacro package\n",
    "\n",
    "Xacro (short for XML Macros) helps in reducing the overall size of the URDF file and makes it easier to read and maintain. It also allows us to create modules and reutilize them to create repeated structures, such as several arms or legs. With this package you can use costants, simple math and macros to create your robot model easier and compact.\n",
    "\n",
    "Usefull information:\n",
    "- http://wiki.ros.org/urdf/Tutorials/Using%20Xacro%20to%20Clean%20Up%20a%20URDF%20File\n",
    "- https://www.theconstructsim.com/exploring-ros-2-wheeled-robot-part-02-xacros/\n",
    "\n",
    "We have a public gopigo3_description package (https://github.com/ros-gopigo3/gopigo3) where the robot model is defined in xacro format within the files:\n",
    "- gopigo3.urdf.xacro\n",
    "- gopigo3.gazebo.xacro\n",
    "- common_properties.xacro\n",
    "\n",
    "To display the xacro model a specific display_xacro.launch file is created"
   ]
  },
  {
   "cell_type": "markdown",
   "metadata": {},
   "source": [
    "To make convertion from xacro files to urdf file fotmat, type:\n",
    "- xacro gopigo3.urdf.xacro > gopigo3.urdf\n",
    "\n",
    "You can display this new model in rviz"
   ]
  },
  {
   "cell_type": "code",
   "execution_count": null,
   "metadata": {},
   "outputs": [],
   "source": [
    "roslaunch gopigo3_description display.launch"
   ]
  },
  {
   "cell_type": "markdown",
   "metadata": {},
   "source": [
    "![Getting Started](./Images/1_gopigo_stl.png)"
   ]
  },
  {
   "cell_type": "markdown",
   "metadata": {},
   "source": [
    "### Final model:\n",
    "Create and verify in the final model taking care about:\n",
    "- Activate all the sensors: in model.urdf.xacro verify if all the sensors are activated\n",
    "    - Camera\n",
    "    - Lidar\n",
    "    - Distance sensor\n",
    "    - IMU (usually IMU is not activated)\n",
    "- Differential drive plugin: \n",
    "    - Take care about the maximum acceleration of wheels and torque. Usually we have to decrease this value to avoid slidings. We take acceleration 0.5 and torque 1\n",
    "    - Be sure the Odom TF is published <publishOdomTF>true</publishOdomTF>\n",
    "- YDLidar plugin:\n",
    "    - By default there are 500 samples with 0.72deg resolution you have to change this to 720 samples with 1 sample resolution"
   ]
  },
  {
   "cell_type": "code",
   "execution_count": null,
   "metadata": {},
   "outputs": [],
   "source": [
    "<!-- Which sensors to include -->\n",
    "<xacro:arg name=\"imu\" default=\"true\" />\n",
    "<!--xacro:property name=\"imu\" value=\"true\"/-->\n",
    "<xacro:arg name=\"distance\"        default=\"true\"/>\n",
    "<xacro:arg name=\"pi_camera\"       default=\"true\"/>\n",
    "<xacro:arg name=\"lds\"             default=\"true\"/>"
   ]
  },
  {
   "cell_type": "code",
   "execution_count": null,
   "metadata": {},
   "outputs": [],
   "source": [
    "        <scan>\n",
    "          <horizontal>\n",
    "            <samples>720</samples>\n",
    "            <resolution>1</resolution>\n",
    "            <min_angle>0.0</min_angle>\n",
    "            <max_angle>6.28319</max_angle>\n",
    "          </horizontal>\n",
    "        </scan>"
   ]
  },
  {
   "cell_type": "markdown",
   "metadata": {},
   "source": [
    "## 2. rUBot gopigo3 spawn in world environment\n",
    "\n",
    "In robotics research, always before working with a real robot, we simulate the robot behaviour in a virtual environment close to the real one. The dynamic simulation of a robot, is a better approach to examining the actual behavior of the robot rather than just using software. Rigid body mechanics, including mass and inertia, friction, damping, motor controllers, sensor detection properties, noise signals, and every aspect of the robot and the environment that can be retained in a model with reasonable accuracy is much less expensive when replicated in a simulator than if you tried to do this with physical hardware.\n",
    "\n",
    "Gazebo is an open source 3D robotics simulator and includes an ODE physics engine and OpenGL rendering, and supports code integration for closed-loop control in robot drives. This is sensor simulation and actuator control.\n",
    "\n",
    "We will create a new spawn.launch file to spawn the robot in an empty world:\n",
    "- roslaunch gopigo3_description spawn.launch"
   ]
  },
  {
   "cell_type": "code",
   "execution_count": null,
   "metadata": {},
   "outputs": [],
   "source": [
    "<launch>\n",
    " <!-- We resume the logic in gazebo_ros package empty_world.launch, -->\n",
    "  <include file=\"$(find gazebo_ros)/launch/empty_world.launch\"/>\n",
    " <!-- Spawn gopigo3 robot into Gazebo -->\n",
    "    <!-- Robot URDF definition -->\n",
    "    <arg name=\"model\" default=\"gopigo3.urdf\" />\n",
    "    <param name=\"robot_description\" textfile=\"$(find gopigo3_description)/urdf/$(arg model)\"/>\n",
    "  <node name=\"spawn_model\" pkg=\"gazebo_ros\" type=\"spawn_model\" output=\"screen\"\n",
    "      args=\"-urdf -model gopigo3 -param robot_description\"/>\n",
    "</launch>"
   ]
  },
  {
   "cell_type": "markdown",
   "metadata": {},
   "source": [
    "A very simple world \"gopigo3.world\" is created using gazebo:\n",
    "- sudo gazebo\n",
    "- save as to \"worlds\" folder\n",
    "\n",
    "The robot could be spawn in this world using this new spawn_world.launch file"
   ]
  },
  {
   "cell_type": "code",
   "execution_count": null,
   "metadata": {},
   "outputs": [],
   "source": [
    "<launch>\n",
    "    <!-- Define the needed parameters -->\n",
    "    <arg name=\"world\" default=\"gopigo3.world\"/> \n",
    "    <arg name=\"model\" default=\"gopigo3.urdf\" />\n",
    "    <arg name=\"x_pos\" default=\"0.5\"/>\n",
    "    <arg name=\"y_pos\" default=\"0.5\"/>\n",
    "    <arg name=\"z_pos\" default=\"0.0\"/>\n",
    "  \n",
    "    <include file=\"$(find gazebo_ros)/launch/empty_world.launch\">\n",
    "        <arg name=\"world_name\" value=\"$(find gopigo3_description)/worlds/$(arg world)\"/>\n",
    "    </include>\n",
    "    <!-- Spawn gopigo3 robot into Gazebo -->\n",
    "       <!-- Robot URDF definition -->\n",
    "       <param name=\"robot_description\" textfile=\"$(find gopigo3_description)/urdf/$(arg model)\"/>\n",
    "    <node name=\"spawn_model\" pkg=\"gazebo_ros\" type=\"spawn_model\" output=\"screen\"\n",
    "        args=\"-urdf -model gopigo3 -param robot_description -x $(arg x_pos) -y $(arg y_pos) -z $(arg z_pos)\"/>\n",
    "   </launch>"
   ]
  },
  {
   "cell_type": "code",
   "execution_count": null,
   "metadata": {},
   "outputs": [],
   "source": [
    "roslaunch gopigo3_description spawn_world.launch\n",
    "roslaunch gopigo3_description display.launch"
   ]
  },
  {
   "cell_type": "markdown",
   "metadata": {},
   "source": [
    "![Getting Started](./Images/1_gopigo3_spawn_rviz.png)"
   ]
  },
  {
   "cell_type": "markdown",
   "metadata": {},
   "source": [
    "Carefully!:\n",
    "- If there is an error \"libcurl: (51) SSL: no alternative certificate subject name matches target host name ‘api.ignitionfuel.org’\" then follow instructions:\n",
    "    - Open \"~/.ignition/fuel/config.yaml\" (to see the hidden files type ctrl+h)\n",
    "    - replace: \"api.ignitionfuel.org\" with \"fuel.ignitionrobotics.org\"\n",
    "    \n",
    " https://varhowto.com/how-to-fix-libcurl-51-ssl-no-alternative-certificate-subject-name-matches-target-host-name-api-ignitionfuel-org-gazebo-ubuntu-ros-melodic/\n",
    "\n",
    "You can see the nodes and topics generated using rqt_graph"
   ]
  },
  {
   "cell_type": "markdown",
   "metadata": {},
   "source": [
    "![Getting Started](./Images/01_rubot_spawn_rqt.png)"
   ]
  },
  {
   "cell_type": "markdown",
   "metadata": {},
   "source": [
    "In order to kill the previous Gazebo process, type:\n",
    "\n",
    "killall gzserver && killall gzclient\n",
    "\n",
    "or type ctrl+r and kill"
   ]
  },
  {
   "cell_type": "markdown",
   "metadata": {},
   "source": [
    "### Design the Project world\n",
    "\n",
    "Here we have first to design the project world, for exemple a maze from where our rUBot gopigo3 has to navigate autonomously.\n",
    "\n",
    "There is a very useful and simple tool to design a proper world: \"Building editor\" in gazebo.\n",
    "\n",
    "Open gazebo as superuser:"
   ]
  },
  {
   "cell_type": "code",
   "execution_count": null,
   "metadata": {},
   "outputs": [],
   "source": [
    "sudo gazebo"
   ]
  },
  {
   "cell_type": "markdown",
   "metadata": {},
   "source": [
    "You can build your world using \"Building Editor\" in Edit menu"
   ]
  },
  {
   "cell_type": "markdown",
   "metadata": {},
   "source": [
    "![Getting Started](./Images/1_BuildingWorld1_1.png)"
   ]
  },
  {
   "cell_type": "markdown",
   "metadata": {},
   "source": [
    "You can save:\n",
    "- the generated model in a model folder (without extension)\n",
    "\n",
    "Close the Builder Editor, modify the model position and add other elements if needed. Save:\n",
    "- the generated world (with extension .world) in the world folder.\n",
    "\n",
    "Once you finish is better to close the terminal you have work as superuser\n",
    "\n",
    "#### Modify a created world\n",
    "- Open a terminal where you have the world you want to modify\n",
    "- type: sudo gazebo ./maze1.world\n",
    "- make modifications\n",
    "- save your world in a Desktop directory\n",
    "- close gazebo and the terminal\n"
   ]
  },
  {
   "cell_type": "markdown",
   "metadata": {},
   "source": [
    "### Exercise:\n",
    "Generate a proper world corresponding to the real world we want to spawn our gopigo3 robot in. For exemple a maze.\n",
    "\n",
    "Save this world as maze.world"
   ]
  },
  {
   "cell_type": "markdown",
   "metadata": {},
   "source": [
    "### Spawn the gopigo3 robot in project world\n",
    "\n",
    "Now, spawn the gopigo3 robot in our generated world. You have to create a \"navigation.launch\" file:"
   ]
  },
  {
   "cell_type": "code",
   "execution_count": null,
   "metadata": {},
   "outputs": [],
   "source": [
    "roslaunch gopigo3_description navigation.launch"
   ]
  },
  {
   "cell_type": "markdown",
   "metadata": {},
   "source": [
    "![Getting Started](./Images/1_maze1.png)"
   ]
  },
  {
   "cell_type": "markdown",
   "metadata": {},
   "source": [
    "To control the robot with the Keyboard you have to install the \"teleop-tools\" package:\n",
    "\n",
    "Perhaps is needed to setup your Keys again:\n",
    "- curl -s https://raw.githubusercontent.com/ros/rosdistro/master/ros.asc | sudo apt-key add -\n",
    "- sudo apt get update"
   ]
  },
  {
   "cell_type": "code",
   "execution_count": null,
   "metadata": {},
   "outputs": [],
   "source": [
    "sudo apt-get install ros-melodic-teleop-tools\n",
    "or\n",
    "sudo apt-get install ros-melodic-teleop-twist-keyboard"
   ]
  },
  {
   "cell_type": "markdown",
   "metadata": {},
   "source": [
    "Then you will be able to control the robot with the Keyboard typing:"
   ]
  },
  {
   "cell_type": "code",
   "execution_count": null,
   "metadata": {},
   "outputs": [],
   "source": [
    "rosrun key_teleop key_teleop.py /key_vel:=/cmd_vel\n",
    "or\n",
    "rosrun teleop_twist_keyboard teleop_twist_keyboard.py"
   ]
  },
  {
   "cell_type": "markdown",
   "metadata": {},
   "source": [
    "## 3. gopigo3 navigation control in the new world environment\n",
    "\n",
    "Once the world has been generated we will create a ROS Package \"rubot_control\" to perform the autonomous navigation "
   ]
  },
  {
   "cell_type": "code",
   "execution_count": null,
   "metadata": {},
   "outputs": [],
   "source": [
    "cd ~/rubot_gopigo_ws/src\n",
    "catkin_create_pkg rubot_control rospy std_msgs sensor_msgs geometry_msgs nav_msgs\n",
    "cd ..\n",
    "catkin_make"
   ]
  },
  {
   "cell_type": "markdown",
   "metadata": {},
   "source": [
    "![Getting Started](./Images/1_rubot_control.png)"
   ]
  },
  {
   "cell_type": "markdown",
   "metadata": {},
   "source": [
    "We will create now different navigation python files in \"src\" folder:\n",
    "- move1_gopigo.py: to define a rubot movement with linear and angular speed\n",
    "- move2_gopigo_param.py: to perform the same operation using params\n",
    "- move3_gopigo_distance.py: to specify a maximum distance\n",
    "\n",
    "Specific launch files have been created to launch the nodes and python files created above:"
   ]
  },
  {
   "cell_type": "code",
   "execution_count": null,
   "metadata": {},
   "outputs": [],
   "source": [
    "roslaunch rubot_control rubot_move1.launch"
   ]
  },
  {
   "cell_type": "code",
   "execution_count": null,
   "metadata": {},
   "outputs": [],
   "source": [
    "roslaunch rubot_control rubot_move2.launch"
   ]
  },
  {
   "cell_type": "code",
   "execution_count": null,
   "metadata": {},
   "outputs": [],
   "source": [
    "roslaunch rubot_control rubot_move3.launch"
   ]
  },
  {
   "cell_type": "markdown",
   "metadata": {},
   "source": [
    "![Getting Started](./Images/1_rubot_move3.png)"
   ]
  },
  {
   "cell_type": "markdown",
   "metadata": {},
   "source": [
    "## gopigo3 autonomous navigation and obstacle avoidance"
   ]
  },
  {
   "cell_type": "markdown",
   "metadata": {},
   "source": [
    "In order to navigate autonomously and avoid obstacles, we have created diferent python files in \"src\" folder:\n",
    "- rubot_lidar_test.py: to test the LIDAR distance readings and angles\n",
    "- rubot_self_nav.py: to perform a simple algorithm for navigation with obstacle avoidance\n",
    "- rubot_wall_follow.py: to follow a wall preciselly for mapping purposes\n",
    "- rubot_go2pose.py: to reach speciffic position and orientation"
   ]
  },
  {
   "cell_type": "markdown",
   "metadata": {},
   "source": [
    "we will create also a \"launch\" folder including the corresponding launch files"
   ]
  },
  {
   "cell_type": "markdown",
   "metadata": {},
   "source": [
    "#### 1. LIDAR test\n",
    "We have created a world to test the rubot model. This world is based on a wall to verify that the LIDAR see the obstacle in the correct angle. We have to launch the \"rubot_lidar_test.launch\" file in the \"rubot_control\" package."
   ]
  },
  {
   "cell_type": "code",
   "execution_count": null,
   "metadata": {},
   "outputs": [],
   "source": [
    "#! /usr/bin/env python\n",
    "\n",
    "import rospy\n",
    "from sensor_msgs.msg import LaserScan\n",
    "\n",
    "def callback(msg):\n",
    "    print len(msg.ranges)\n",
    "    # values at 0 degree\n",
    "    print msg.ranges[0]\n",
    "    # values at 90 degree\n",
    "    print msg.ranges[90]\n",
    "    # values at 180 degree\n",
    "    print msg.ranges[180]\n",
    "    # values at 270 degree\n",
    "    print msg.ranges[270]\n",
    "    # values at 360 degree\n",
    "    print msg.ranges[359]\n",
    "\n",
    "rospy.init_node('scan_values')\n",
    "sub = rospy.Subscriber('/scan', LaserScan, callback)\n",
    "rospy.spin()"
   ]
  },
  {
   "cell_type": "code",
   "execution_count": null,
   "metadata": {},
   "outputs": [],
   "source": [
    "roslaunch rubot_control rubot_lidar_test.launch\n",
    "rosrun teleop_twist_keyboard teleop_twist_keyboard.py"
   ]
  },
  {
   "cell_type": "markdown",
   "metadata": {},
   "source": [
    "![Getting Started](./Images/1_lidar_test.png)"
   ]
  },
  {
   "cell_type": "markdown",
   "metadata": {},
   "source": [
    "#### 2. Autonomous navigation with obstacle avoidance\n",
    "We will use now the created world to test the autonomous navigation with obstacle avoidance performance. \n",
    "\n",
    "We have to launch the \"rubot_self_nav.launch\" file in the \"rubot_control\" package."
   ]
  },
  {
   "cell_type": "code",
   "execution_count": null,
   "metadata": {},
   "outputs": [],
   "source": [
    "roslaunch rubot_control rubot_self_nav.launch"
   ]
  },
  {
   "cell_type": "markdown",
   "metadata": {},
   "source": [
    "Careful:\n",
    "- we have included in launch file: gazebo spawn, rviz visualization and rubot_nav node execution \n",
    "- Verify in rviz you have to change the fixed frame to \"odom\" frame"
   ]
  },
  {
   "cell_type": "markdown",
   "metadata": {},
   "source": [
    "![Getting Started](./Images/1_rubot_self_nav.png)"
   ]
  },
  {
   "cell_type": "markdown",
   "metadata": {},
   "source": [
    "The algorithm description functionality is:\n",
    "- \"rubot_self_nav.py\": The Python script makes the robot go forward. \n",
    "    - LIDAR is allways searching the closest distance and the angle\n",
    "    - when this distance is lower than a threshold, the robot goes backward with angular speed in the oposite direction of the minimum distance angle."
   ]
  },
  {
   "cell_type": "markdown",
   "metadata": {},
   "source": [
    "#### 3. Wall Follower\n",
    "Follow the wall accuratelly is an interesting challenge to make a map with precision to apply SLAM techniques for navigation purposes.\n",
    "\n",
    "There are 2 main tasks:\n",
    "- Create a python file \"rubot_wall_follower.py\" to perform the wall follower in the maze of our gopigo3 robot\n",
    "- Create a launch file to initialyse all the needed nodes in our system for this control task\n",
    "\n",
    "We have developed 2 different methods for wall follower:\n",
    "- Geometrical method\n",
    "- Lidar ranges method"
   ]
  },
  {
   "cell_type": "markdown",
   "metadata": {},
   "source": [
    "##### a) Geometrical method\n",
    "\n",
    "Follow the instructions to perform the rubot_wall_follower_gm.py python program are in the notebook: \n",
    "https://github.com/Albert-Alvarez/ros-gopigo3/blob/lab-sessions/develop/ROS%20con%20GoPiGo3%20-%20S4.md\n"
   ]
  },
  {
   "cell_type": "markdown",
   "metadata": {},
   "source": [
    "<img src=\"./Images/2_wall_follower1.png\">"
   ]
  },
  {
   "cell_type": "markdown",
   "metadata": {},
   "source": [
    "A rubot_wall_follower_gm.launch is generated to test the node within a specified world"
   ]
  },
  {
   "cell_type": "code",
   "execution_count": null,
   "metadata": {},
   "outputs": [],
   "source": [
    "roslaunch rubot_control rubot_wall_follower_gm.launch"
   ]
  },
  {
   "cell_type": "markdown",
   "metadata": {},
   "source": [
    "<img src=\"./Images/1_wall_follower_gm.png\">"
   ]
  },
  {
   "cell_type": "markdown",
   "metadata": {},
   "source": [
    "You can see a video for the wall follower process in Folder: Files/wallFollower"
   ]
  },
  {
   "cell_type": "markdown",
   "metadata": {},
   "source": [
    "##### b) Lidar ranges method\n",
    "\n",
    "We have created another rubot_wall_follower_rg.py file based on the reading distances from LIDAR in the ranges: front, front-right, front-left, right, left, back-right and back-left, and perform a specific actuation in function of the minimum distance readings.\n",
    "\n",
    "Follow the instructions to create the rubot_wall_follower_rg.py python file: https://www.theconstructsim.com/wall-follower-algorithm/"
   ]
  },
  {
   "cell_type": "markdown",
   "metadata": {},
   "source": [
    "<img src=\"./Images/1_wall_follower.png\">"
   ]
  },
  {
   "cell_type": "markdown",
   "metadata": {},
   "source": [
    "The algorith is based on laser ranges test and depends on the LIDAR type:"
   ]
  },
  {
   "cell_type": "markdown",
   "metadata": {},
   "source": [
    "<img src=\"./Images/1_wall_follower2.png\">"
   ]
  },
  {
   "cell_type": "code",
   "execution_count": null,
   "metadata": {},
   "outputs": [],
   "source": [
    "roslaunch rubot_control rubot_wall_follower_rg.launch"
   ]
  },
  {
   "cell_type": "markdown",
   "metadata": {},
   "source": [
    "#### 4. Go to POSE\n",
    "Define a specific Position and Orientation as a target point to gopigo3 robot\n",
    "\n",
    "x target point\n",
    "y target point\n",
    "f yaw orientation angle in deg\n",
    "\n",
    "Modify the python script developed in turlesim control package according to the odom message type\n",
    "\n",
    "For validation type:"
   ]
  },
  {
   "cell_type": "code",
   "execution_count": null,
   "metadata": {},
   "outputs": [],
   "source": [
    "roslaunch rubot_control rubot_go2pose.launch"
   ]
  },
  {
   "cell_type": "markdown",
   "metadata": {},
   "source": [
    "![Getting Started](./Images/1_rubot_go2point.png)"
   ]
  },
  {
   "cell_type": "markdown",
   "metadata": {},
   "source": []
  }
 ],
 "metadata": {
  "interpreter": {
   "hash": "767d51c1340bd893661ea55ea3124f6de3c7a262a8b4abca0554b478b1e2ff90"
  },
  "kernelspec": {
   "display_name": "Python 2.7.17 64-bit",
   "name": "python3"
  },
  "language_info": {
   "name": "python",
   "version": "2.7.17"
  },
  "metadata": {
   "interpreter": {
    "hash": "31f2aee4e71d21fbe5cf8b01ff0e069b9275f58929596ceb00d14d90e3e16cd6"
   }
  }
 },
 "nbformat": 4,
 "nbformat_minor": 2
}
