{
 "cells": [
  {
   "cell_type": "markdown",
   "source": [
    "# gopigo3 model & control"
   ],
   "metadata": {}
  },
  {
   "cell_type": "markdown",
   "source": [
    "The final objective of this chapter are:\n",
    "- Create a model of our gopigo3 robot \n",
    "- use rviz package to view the different topics and nodes\n",
    "- create a model of the virtual environment\n",
    "- use gazebo package to simulate the robot kinematics and dynamics\n",
    "- locate the robot in our created environment\n",
    "- create our firsts programs to control the robot movement with obtacle avoidance\n",
    "\n",
    "\n",
    "The final model represents the real gopigo3 robot we will use in the laboratory\n",
    "\n",
    "Interesting complementary information could be found:\n",
    "\n",
    "https://brjapon.medium.com/learning-robotics-with-ros-made-easy-12197c918dab\n",
    "\n",
    "http://wiki.ros.org/Robots/gopigo3\n",
    "\n",
    "https://robots.ros.org/gopigo3/\n",
    "\n",
    "https://github.com/ros-gopigo3/gopigo3\n",
    "\n",
    "https://bitbucket.org/theconstructcore/two-wheeled-robot-motion-planning/src/master/\n"
   ],
   "metadata": {}
  },
  {
   "cell_type": "markdown",
   "source": [
    "![Getting Starter](./Images/1_gopigo3_UB.png)"
   ],
   "metadata": {}
  },
  {
   "cell_type": "markdown",
   "source": [
    "## 1. rUBot gopigo3 model generation\n",
    "\n",
    "First of all, we have to create the \"gopigo3_description\" package containing the gopigo3 model:"
   ],
   "metadata": {}
  },
  {
   "cell_type": "code",
   "execution_count": null,
   "source": [
    "cd ~/rubot_gopigo_ws/src\n",
    "catkin_create_pkg gopigo3_description rospy\n",
    "cd ..\n",
    "catkin_make"
   ],
   "outputs": [],
   "metadata": {}
  },
  {
   "cell_type": "markdown",
   "source": [
    "Then open the .bashrc file and verify the environment variables and source to the proper workspace:\n",
    "\n",
    "source ~/rubot_gopigo_ws/devel/setup.bash"
   ],
   "metadata": {}
  },
  {
   "cell_type": "markdown",
   "source": [
    "To create our robot model, we use URDF files (Unified Robot Description Format). URDF file is an XML format file for representing a robot model.(http://wiki.ros.org/urdf/Tutorials)\n",
    "\n",
    "We have created 2 folders for model description:\n",
    "- URDF: folder where different URDF models are located\n",
    "- meshes: folder where 3D body models in stl format are located.\n",
    "\n",
    "You can reduce the amount of code in a URDF file using Xacro package. With this package you can use costants, simple math and macros to create your robot model easier and compact."
   ],
   "metadata": {}
  },
  {
   "cell_type": "markdown",
   "source": [
    "The main parts of URDF model are:\n",
    "- links: diferent bodies/plastic elements\n",
    "- joints: connection between 2 links \n",
    "- sensors & actuators plugins (2D camera, LIDAR and DC motors)\n",
    "\n",
    "The link definition contains:\n",
    "- visual properties: the origin, geometry and material\n",
    "- collision properties: the origin and geomnetry\n",
    "- inertial properties: the origin, mass and inertia matrix\n",
    "\n",
    "The joint definition contains:\n",
    "- joint Type (fixed, continuous)\n",
    "- parent and child frames\n",
    "- origin frame\n",
    "- rotation axis\n",
    "\n",
    "In the case or wright wheel:"
   ],
   "metadata": {}
  },
  {
   "cell_type": "code",
   "execution_count": null,
   "source": [
    "<!-- Right Wheel -->\n",
    "  <link name=\"right_wheel\">\n",
    "    <visual>\n",
    "      <origin xyz=\"0 0 0\" rpy=\"1.570795 0 0\" />\n",
    "      <geometry>\n",
    "          <cylinder length=\"0.05\" radius=\"0.1\" />\n",
    "      </geometry>\n",
    "      <material name=\"orange\"/>\n",
    "    </visual>\n",
    "    <collision>\n",
    "      <origin xyz=\"0 0 0\" rpy=\"1.570795 0 0\" />\n",
    "      <geometry>\n",
    "          <cylinder length=\"0.05\" radius=\"0.1\" />\n",
    "      </geometry>\n",
    "    </collision>\n",
    "    <inertial>\n",
    "      <origin xyz=\"0 0 0\" rpy=\"1.570795 0 0\" />\n",
    "      <mass value=\"0.15\"/>\n",
    "      <inertia ixx=\"0.01\" ixy=\"0.0\" ixz=\"0.0\" iyy=\"0.005\" iyz=\"0.0\" izz=\"0.005\"/>\n",
    "    </inertial>\n",
    "  </link>\n",
    "  \n",
    "  <!-- Right Wheel joint -->\n",
    "  <joint name=\"joint_right_wheel\" type=\"continuous\">\n",
    "    <parent link=\"base_link\"/>\n",
    "    <child link=\"right_wheel\"/>\n",
    "    <origin xyz=\"0 -0.30 0.025\" rpy=\"0 0 0\" /> \n",
    "    <axis xyz=\"0 1 0\" />\n",
    "  </joint>"
   ],
   "outputs": [],
   "metadata": {}
  },
  {
   "cell_type": "markdown",
   "source": [
    "The gopigo3 model includes different sensors and actuators:\n",
    "\n",
    "Sensors:\n",
    "- a two-dimensional camera: correspondas to RBPi camera\n",
    "- a 360º LIDAR sensor: corresponds to the EAI YDLIDAR X4 (https://www.robotshop.com/es/es/escaner-laser-360-ydlidar-x4.html)\n",
    "\n",
    "Actuator:\n",
    "- Differential drive actuator: based on 2 DC motors with encoders to obtain the Odometry information\n",
    "\n",
    "The full model contains also information about the sensor and actuator controllers using specific Gazebo plugins (http://gazebosim.org/tutorials?tut=ros_gzplugins#Tutorial:UsingGazebopluginswithROS). \n",
    "\n",
    "Gazebo plugins give your URDF models greater functionality and can tie in ROS messages and service calls for sensor output and motor input. \n",
    "\n",
    "These plugins can be referenced through a URDF file, and to insert them in the URDF file, you have to follow the sintax:\n",
    "- for Differential drive actuator:"
   ],
   "metadata": {}
  },
  {
   "cell_type": "code",
   "execution_count": null,
   "source": [
    "<robot>\n",
    "  ... robot description ...\n",
    "  <gazebo>\n",
    "    <plugin name=\"gazebo_ros_lds_lfcd_controller\" filename=\"libgazebo_ros_laser.so\">\n",
    "        <topicName>scan</topicName>\n",
    "        <frameName>base_scan</frameName>\n",
    "    </plugin>\n",
    "  </gazebo>\n",
    "  ... robot description ...\n",
    "</robot>"
   ],
   "outputs": [],
   "metadata": {}
  },
  {
   "cell_type": "markdown",
   "source": [
    "In this gazebo plugin, the kinematics of the robot configuration is defined:\n",
    "- Forward kinematics: obtaining the robot POSE (odometry) with the robot wheel speeds information\n",
    "- Inverse kinematics: obtaining the robot wheels speds to reach specific robot POSE (odometry)\n",
    "\n",
    "The equations are sumarized below"
   ],
   "metadata": {}
  },
  {
   "cell_type": "markdown",
   "source": [
    "![Getting Starter](./Images/1_Drive_kine.png)"
   ],
   "metadata": {}
  },
  {
   "cell_type": "markdown",
   "source": [
    "- for sensor plugin:"
   ],
   "metadata": {}
  },
  {
   "cell_type": "code",
   "execution_count": null,
   "source": [
    "<robot>\n",
    "  ... robot description ...\n",
    "  <link name=\"sensor_link\">\n",
    "    ... link description ...\n",
    "  </link>\n",
    "\n",
    "  <gazebo reference=\"sensor_link\">\n",
    "    <sensor type=\"camera\" name=\"camera1\">\n",
    "      ... sensor parameters ...\n",
    "      <plugin name=\"camera_controller\" filename=\"libgazebo_ros_camera.so\">\n",
    "        ... plugin parameters ..\n",
    "      </plugin>\n",
    "    </sensor>\n",
    "  </gazebo>\n",
    "\n",
    "</robot>"
   ],
   "outputs": [],
   "metadata": {}
  },
  {
   "cell_type": "markdown",
   "source": [
    "#### Generated models in URDF\n",
    "The diferent model files we have created in urdf folder are:\n",
    "- gopigo3_v1.urdf: includes only the geometrical description of gopigo robot.\n",
    "- gopigo3_v2.urdf: includes sensors and actuator:\n",
    "    - the 2D camera and LDS sensors\n",
    "    - the differential drive actuator\n",
    "- gopigo3_v3.urdf: includes sensors and actuator:\n",
    "    - the 2D camera, LDS and LIDAR sensors\n",
    "    - the differential drive actuator\n",
    "- gopigo3_v4.gazebo: includes corrections in the proposed model:\n",
    "    - base_link geometry and inertia\n",
    "    - 2D camera real position\n",
    "    - LIDAR scaling and orientation\n",
    "\n",
    "We use a specific \"display.launch\" launch file where we specify the robot model we want to open in rviz with a configuration specified in \"urdf.rviz\":"
   ],
   "metadata": {}
  },
  {
   "cell_type": "code",
   "execution_count": null,
   "source": [
    "<?xml version=\"1.0\"?>\n",
    "<launch>\n",
    "  <!-- set these parameters on Parameter Server -->\n",
    "  <param name=\"robot_description\" textfile=\"$(find gopigo3_description)/urdf/gopigo3_v4.urdf\" />\n",
    "  <!-- send fake joint values -->\n",
    "  <node name=\"joint_state_publisher\" pkg=\"joint_state_publisher\" type=\"joint_state_publisher\">\n",
    "    <param name=\"use_gui\" value=\"False\"/>\n",
    "  </node>\n",
    "  <!-- Combine joint values -->\n",
    "  <node name=\"robot_state_publisher\" pkg=\"robot_state_publisher\" type=\"robot_state_publisher\"/>\n",
    "  <!-- Show in Rviz   -->\n",
    "  <node name=\"rviz\" pkg=\"rviz\" type=\"rviz\" args=\"-d $(find gopigo3_description)/rviz/urdf.rviz\"/>\n",
    "</launch>"
   ],
   "outputs": [],
   "metadata": {}
  },
  {
   "cell_type": "markdown",
   "source": [
    "Launch the ROS visualization tool to check that the model is properly built. \n",
    "RViz only represents the robot visual features. You have available all the options to check every aspect of the appearance of the model"
   ],
   "metadata": {}
  },
  {
   "cell_type": "code",
   "execution_count": null,
   "source": [
    "roslaunch gopigo3_description display.launch"
   ],
   "outputs": [],
   "metadata": {}
  },
  {
   "cell_type": "markdown",
   "source": [
    "![Getting Starter](./Images/1_gopigo_basic_rviz.png)"
   ],
   "metadata": {}
  },
  {
   "cell_type": "markdown",
   "source": [
    "![Getting Starter](./Images/1_gopigo3_rviz.png)"
   ],
   "metadata": {}
  },
  {
   "cell_type": "markdown",
   "source": [
    "### gopigo3 model improvements\n",
    "Some modifications in the initial model \"gopigo3_init.gazebo\" have been made to:\n",
    "- locate the LIDAR in the correct position\n",
    "- locate the camera axis in front position to see properly"
   ],
   "metadata": {}
  },
  {
   "cell_type": "markdown",
   "source": [
    "Special attention has to be done to the YDLIDAR sensor.\n",
    "\n",
    "- YDLIDAR X4 is a 360-degree two-dimensional rangefinder (hereinafter referred to as X4) developed by YDLIDAR team. \n",
    "- Based on the principle of triangulation, it is equipped with related optics, electronics and algorithm design to achieve high-frequency and high-precision distance measurement. \n",
    "- The mechanical structure rotates 360 degrees to continuously output the angle information as well as the point cloud data of the scanning environment while ranging.\n",
    "-10m Ranging distance (2cm absolute error)"
   ],
   "metadata": {}
  },
  {
   "cell_type": "markdown",
   "source": [
    "![Getting Started](./Images/1_ydlidar.png)"
   ],
   "metadata": {}
  },
  {
   "cell_type": "markdown",
   "source": [
    "It is important to note that:\n",
    "- the number of points of real YDLidar is 720 (one each half degree)\n",
    "- the number of points of simulated Lidar is 360 (one each degree)"
   ],
   "metadata": {}
  },
  {
   "cell_type": "markdown",
   "source": [
    "### Exercise:\n",
    "\n",
    "Modify the gopigo3.gazebo model to take into account:\n",
    "- Adapt the base-link geometry and inertia to the real gopigo3 robot"
   ],
   "metadata": {}
  },
  {
   "cell_type": "markdown",
   "source": [
    "![Getting Started](./Images/1_mides.png)"
   ],
   "metadata": {}
  },
  {
   "cell_type": "markdown",
   "source": [
    "#### Using Xacro package\n",
    "\n",
    "Xacro (short for XML Macros) helps in reducing the overall size of the URDF file and makes it easier to read and maintain. It also allows us to create modules and reutilize them to create repeated structures, such as several arms or legs. With this package you can use costants, simple math and macros to create your robot model easier and compact.\n",
    "\n",
    "Usefull information:\n",
    "- http://wiki.ros.org/urdf/Tutorials/Using%20Xacro%20to%20Clean%20Up%20a%20URDF%20File\n",
    "- https://www.theconstructsim.com/exploring-ros-2-wheeled-robot-part-02-xacros/\n",
    "\n",
    "We have a public gopigo3_description package (https://github.com/ros-gopigo3/gopigo3) where the robot model is defined in xacro format within the files:\n",
    "- gopigo3.urdf.xacro\n",
    "- gopigo3.gazebo.xacro\n",
    "- common_properties.xacro\n",
    "\n",
    "To display the xacro model a specific display_xacro.launch file is created"
   ],
   "metadata": {}
  },
  {
   "cell_type": "markdown",
   "source": [
    "To make convertion from xacro files to urdf file fotmat, type:\n",
    "- xacro gopigo3.urdf.xacro > gopigo3.urdf\n",
    "\n",
    "You can display this new model in rviz"
   ],
   "metadata": {}
  },
  {
   "cell_type": "code",
   "execution_count": null,
   "source": [
    "roslaunch gopigo3_description display.launch"
   ],
   "outputs": [],
   "metadata": {}
  },
  {
   "cell_type": "markdown",
   "source": [
    "![Getting Started](./Images/1_gopigo_stl.png)"
   ],
   "metadata": {}
  },
  {
   "cell_type": "markdown",
   "source": [
    "### Exercise:\n",
    "Create and Verify in the final model taking care about:\n",
    "- Activate all the sensors: in model.urdf.xacro verify if all the sensors are activated\n",
    "    - Camera\n",
    "    - Lidar\n",
    "    - Distance sensor\n",
    "    - IMU (usually IMU is not activated)\n",
    "- Differential drive plugin: \n",
    "    - Take care about the maximum acceleration of wheels and torque. Usually we have to decrease this value to avoid slidings. We take acceleration 0.5 and torque 1\n",
    "    - Be sure the Odom TF is published <publishOdomTF>true</publishOdomTF>\n",
    "- YDLidar plugin:\n",
    "    - By default there are 500 samples with 0.72deg resolution you have to change this to 360 samples with 1deg resolution"
   ],
   "metadata": {}
  },
  {
   "cell_type": "code",
   "execution_count": null,
   "source": [
    "<!-- Which sensors to include -->\n",
    "<xacro:arg name=\"imu\" default=\"true\" />\n",
    "<!--xacro:property name=\"imu\" value=\"true\"/-->\n",
    "<xacro:arg name=\"distance\"        default=\"true\"/>\n",
    "<xacro:arg name=\"pi_camera\"       default=\"true\"/>\n",
    "<xacro:arg name=\"lds\"             default=\"true\"/>"
   ],
   "outputs": [],
   "metadata": {}
  },
  {
   "cell_type": "code",
   "execution_count": null,
   "source": [
    "        <scan>\n",
    "          <horizontal>\n",
    "            <!--samples>360</samples>\n",
    "            <resolution>1</resolution-->\n",
    "            <!--samples>500</samples-->\n",
    "            <!--resolution>0.72</resolution-->\n",
    "            <samples>720</samples>\n",
    "            <resolution>0.5</resolution>\n",
    "            <min_angle>0.0</min_angle>\n",
    "            <max_angle>6.28319</max_angle>\n",
    "          </horizontal>\n",
    "        </scan>"
   ],
   "outputs": [],
   "metadata": {}
  },
  {
   "cell_type": "markdown",
   "source": [
    "## 2. rUBot gopigo3 spawn in world environment\n",
    "\n",
    "In robotics research, always before working with a real robot, we simulate the robot behaviour in a virtual environment close to the real one. The dynamic simulation of a robot, is a better approach to examining the actual behavior of the robot rather than just using software. Rigid body mechanics, including mass and inertia, friction, damping, motor controllers, sensor detection properties, noise signals, and every aspect of the robot and the environment that can be retained in a model with reasonable accuracy is much less expensive when replicated in a simulator than if you tried to do this with physical hardware.\n",
    "\n",
    "Gazebo is an open source 3D robotics simulator and includes an ODE physics engine and OpenGL rendering, and supports code integration for closed-loop control in robot drives. This is sensor simulation and actuator control.\n",
    "\n",
    "We will create a new spawn.launch file to spawn the robot in an empty world"
   ],
   "metadata": {}
  },
  {
   "cell_type": "code",
   "execution_count": null,
   "source": [
    "<launch>\n",
    " <!-- We resume the logic in gazebo_ros package empty_world.launch, -->\n",
    "  <include file=\"$(find gazebo_ros)/launch/empty_world.launch\"/>\n",
    " <!-- Spawn gopigo3 robot into Gazebo -->\n",
    "    <!-- Robot URDF definition -->\n",
    "    <arg name=\"model\" default=\"gopigo3\" />\n",
    "    <param name=\"robot_description\" textfile=\"$(find gopigo3_description)/urdf/gopigo3_stl.urdf\"/>\n",
    "  <node name=\"spawn_model\" pkg=\"gazebo_ros\" type=\"spawn_model\" output=\"screen\"\n",
    "      args=\"-urdf -model gopigo3 -param robot_description\"/>\n",
    "</launch>"
   ],
   "outputs": [],
   "metadata": {}
  },
  {
   "cell_type": "markdown",
   "source": [
    "A very simple world \"gopigo3.world\" is created using gazebo:\n",
    "- sudo gazebo\n",
    "- save as to \"worlds\" folder\n",
    "\n",
    "The robot could be spawn in this world using this new spawn_world.launch file"
   ],
   "metadata": {}
  },
  {
   "cell_type": "code",
   "execution_count": null,
   "source": [
    "<launch>\n",
    "    <!-- Define the needed parameters -->\n",
    "    <arg name=\"world\" default=\"gopigo3.world\"/> \n",
    "    <arg name=\"model\" default=\"gopigo3.urdf\" />\n",
    "    <arg name=\"x_pos\" default=\"0.5\"/>\n",
    "    <arg name=\"y_pos\" default=\"0.5\"/>\n",
    "    <arg name=\"z_pos\" default=\"0.0\"/>\n",
    "  \n",
    "    <include file=\"$(find gazebo_ros)/launch/empty_world.launch\">\n",
    "        <arg name=\"world_name\" value=\"$(find gopigo3_description)/worlds/$(arg world)\"/>\n",
    "    </include>\n",
    "    <!-- Spawn gopigo3 robot into Gazebo -->\n",
    "       <!-- Robot URDF definition -->\n",
    "       <param name=\"robot_description\" textfile=\"$(find gopigo3_description)/urdf/$(arg model)\"/>\n",
    "    <node name=\"spawn_model\" pkg=\"gazebo_ros\" type=\"spawn_model\" output=\"screen\"\n",
    "        args=\"-urdf -model gopigo3 -param robot_description -x $(arg x_pos) -y $(arg y_pos) -z $(arg z_pos)\"/>\n",
    "   </launch>"
   ],
   "outputs": [],
   "metadata": {}
  },
  {
   "cell_type": "code",
   "execution_count": null,
   "source": [
    "roslaunch gopigo3_description spawn_world.launch\n",
    "roslaunch gopigo3_description display.launch"
   ],
   "outputs": [],
   "metadata": {}
  },
  {
   "cell_type": "markdown",
   "source": [
    "![Getting Started](./Images/1_gopigo3_spawn_rviz.png)"
   ],
   "metadata": {}
  },
  {
   "cell_type": "markdown",
   "source": [
    "Carefully!:\n",
    "- If there is an error \"libcurl: (51) SSL: no alternative certificate subject name matches target host name ‘api.ignitionfuel.org’\" then follow instructions in: https://varhowto.com/how-to-fix-libcurl-51-ssl-no-alternative-certificate-subject-name-matches-target-host-name-api-ignitionfuel-org-gazebo-ubuntu-ros-melodic/\n",
    "\n",
    "You can see the nodes and topics generated using rqt_graph"
   ],
   "metadata": {}
  },
  {
   "cell_type": "markdown",
   "source": [
    "![Getting Started](./Images/01_rubot_spawn_rqt.png)"
   ],
   "metadata": {}
  },
  {
   "cell_type": "markdown",
   "source": [
    "In order to kill the previous Gazebo process, type:\n",
    "\n",
    "killall gzserver && killall gzclient\n",
    "\n",
    "or type ctrl+r and kill"
   ],
   "metadata": {}
  },
  {
   "cell_type": "markdown",
   "source": [
    "### Design the Project world\n",
    "\n",
    "Here we have first to design the project world, for exemple a maze from where our rUBot gopigo3 has to navigate autonomously.\n",
    "\n",
    "There is a very useful and simple tool to design a proper world: Building editor\" in gazebo.\n",
    "\n",
    "Open gazebo as superuser:"
   ],
   "metadata": {}
  },
  {
   "cell_type": "code",
   "execution_count": null,
   "source": [
    "sudo gazebo"
   ],
   "outputs": [],
   "metadata": {}
  },
  {
   "cell_type": "markdown",
   "source": [
    "You can build your world using \"Building Editor\" in Edit menu"
   ],
   "metadata": {}
  },
  {
   "cell_type": "markdown",
   "source": [
    "![Getting Started](./Images/1_BuildingWorld1_1.png)"
   ],
   "metadata": {}
  },
  {
   "cell_type": "markdown",
   "source": [
    "You can save:\n",
    "- the generated model in a model folder (without extension)\n",
    "\n",
    "Close the Builder Editor, modify the model position and add other elements if needed. Save:\n",
    "- the generated world (with extension .world) in the world folder.\n",
    "\n",
    "Once you finish is better to close the terminal you have work as superuser\n"
   ],
   "metadata": {}
  },
  {
   "cell_type": "markdown",
   "source": [
    "### Exercise 3:\n",
    "Generate a proper world corresponding to the real maze we have in the laboratory.\n",
    "\n",
    "Save this world as gopigo3_maze.world"
   ],
   "metadata": {}
  },
  {
   "cell_type": "markdown",
   "source": [
    "### Spawn the gopigo3 robot in project world\n",
    "\n",
    "Now, spawn the gopigo3 robot in our generated world. You have to create a \"navigation.launch\" file:"
   ],
   "metadata": {}
  },
  {
   "cell_type": "code",
   "execution_count": null,
   "source": [
    "roslaunch gopigo3_description navigation.launch"
   ],
   "outputs": [],
   "metadata": {}
  },
  {
   "cell_type": "markdown",
   "source": [
    "![Getting Started](./Images/1_maze1.png)"
   ],
   "metadata": {}
  },
  {
   "cell_type": "markdown",
   "source": [
    "To control the robot with the Keyboard you have to install the \"teleop-tools\" package:\n",
    "\n",
    "Perhaps is needed to setup your Keys again:\n",
    "- curl -s https://raw.githubusercontent.com/ros/rosdistro/master/ros.asc | sudo apt-key add -"
   ],
   "metadata": {}
  },
  {
   "cell_type": "code",
   "execution_count": null,
   "source": [
    "sudo apt-get install ros-melodic-teleop-tools\n",
    "or\n",
    "sudo apt-get install ros-melodic-teleop-twist-keyboard"
   ],
   "outputs": [],
   "metadata": {}
  },
  {
   "cell_type": "markdown",
   "source": [
    "Then you will be able to control the robot with the Keyboard typing:"
   ],
   "metadata": {}
  },
  {
   "cell_type": "code",
   "execution_count": null,
   "source": [
    "rosrun key_teleop key_teleop.py /key_vel:=/cmd_vel\n",
    "or\n",
    "rosrun teleop_twist_keyboard teleop_twist_keyboard.py"
   ],
   "outputs": [],
   "metadata": {}
  },
  {
   "cell_type": "markdown",
   "source": [
    "## 3. gopigo3 navigation control in the new world environment\n",
    "\n",
    "Once the world has been generated we will create a ROS Package \"rubot_control\" to perform the autonomous navigation "
   ],
   "metadata": {}
  },
  {
   "cell_type": "code",
   "execution_count": null,
   "source": [
    "cd ~/rubot_gopigo_ws/src\n",
    "catkin_create_pkg rubot_control rospy std_msgs sensor_msgs geometry_msgs nav_msgs\n",
    "cd ..\n",
    "catkin_make"
   ],
   "outputs": [],
   "metadata": {}
  },
  {
   "cell_type": "markdown",
   "source": [
    "![Getting Started](./Images/1_rubot_control.png)"
   ],
   "metadata": {}
  },
  {
   "cell_type": "markdown",
   "source": [
    "We will create now different navigation python files in \"src\" folder:\n",
    "- move1_gopigo.py: to define a rubot movement with linear and angular speed\n",
    "- move2_gopigo_param.py: to perform the same operation using params\n",
    "- move3_gopigo_distance.py: to specify a maximum distance\n",
    "\n",
    "Specific launch files have been created to launch the nodes and python files created above:"
   ],
   "metadata": {}
  },
  {
   "cell_type": "code",
   "execution_count": null,
   "source": [
    "roslaunch rubot_control rubot_move1.launch"
   ],
   "outputs": [],
   "metadata": {}
  },
  {
   "cell_type": "code",
   "execution_count": null,
   "source": [
    "roslaunch rubot_control rubot_move2.launch"
   ],
   "outputs": [],
   "metadata": {}
  },
  {
   "cell_type": "code",
   "execution_count": null,
   "source": [
    "roslaunch rubot_control rubot_move3.launch"
   ],
   "outputs": [],
   "metadata": {}
  },
  {
   "cell_type": "markdown",
   "source": [
    "![Getting Started](./Images/1_rubot_move3.png)"
   ],
   "metadata": {}
  },
  {
   "cell_type": "markdown",
   "source": [
    "## gopigo3 autonomous navigation and obstacle avoidance"
   ],
   "metadata": {}
  },
  {
   "cell_type": "markdown",
   "source": [
    "In order to navigate autonomously and avoid obstacles, we have created diferent python files in \"src\" folder:\n",
    "- rubot_LIDAR_Test.py: to test the LIDAR distance readings and angles\n",
    "- rubot_autonomous_navigation1.py: to perform a simple algorithm for navigation with obstacle avoidance"
   ],
   "metadata": {}
  },
  {
   "cell_type": "markdown",
   "source": [
    "we will create also a \"launch\" folder including the corresponding launch files:\n",
    "- rubot_lidar_test.launch\n",
    "- rubot_nav1.launch"
   ],
   "metadata": {}
  },
  {
   "cell_type": "markdown",
   "source": [
    "#### 1. LIDAR test\n",
    "We have created a world to test the rubot model. This world is based on a wall to verify that the LIDAR see the obstacle in the correct angle. We have to launch the \"rubot_lidar_test.launch\" file in the \"rubot_control\" package."
   ],
   "metadata": {}
  },
  {
   "cell_type": "code",
   "execution_count": null,
   "source": [
    "#! /usr/bin/env python\n",
    "\n",
    "import rospy\n",
    "from sensor_msgs.msg import LaserScan\n",
    "\n",
    "def callback(msg):\n",
    "    print len(msg.ranges)\n",
    "    # values at 0 degree\n",
    "    print msg.ranges[0]\n",
    "    # values at 90 degree\n",
    "    print msg.ranges[90]\n",
    "    # values at 180 degree\n",
    "    print msg.ranges[180]\n",
    "    # values at 270 degree\n",
    "    print msg.ranges[270]\n",
    "    # values at 360 degree\n",
    "    print msg.ranges[359]\n",
    "\n",
    "rospy.init_node('scan_values')\n",
    "sub = rospy.Subscriber('/scan', LaserScan, callback)\n",
    "rospy.spin()"
   ],
   "outputs": [],
   "metadata": {}
  },
  {
   "cell_type": "code",
   "execution_count": null,
   "source": [
    "roslaunch rubot_control rubot_lidar_test.launch"
   ],
   "outputs": [],
   "metadata": {}
  },
  {
   "cell_type": "markdown",
   "source": [
    "![Getting Started](./Images/1_lidar_test.png)"
   ],
   "metadata": {}
  },
  {
   "cell_type": "markdown",
   "source": [
    "### Exercise 4:\n",
    "Create a LIDAR plugin corresponding to the one we are using: 720 sample points and 0,5deg resolution. You need to modify the gopigo3.urdf file\n",
    "\n",
    "Generate a world with obstacles in 0deg, 90deg, 180deg, 270deg and 360deg at different distances and test the LIDAR.\n",
    "\n",
    "Modify the lidar_test.py file to test this new lidar and verify it."
   ],
   "metadata": {}
  },
  {
   "cell_type": "markdown",
   "source": [
    "![Getting Started](./Images/1_lidar_test2.png)"
   ],
   "metadata": {}
  },
  {
   "cell_type": "markdown",
   "source": [
    "#### 2. Autonomous navigation with obstacle avoidance\n",
    "We will use now the created world to test the autonomous navigation with obstacle avoidance performance. \n",
    "\n",
    "We have to launch the \"rubot_nav1.launch\" file in the \"rubot_control\" package."
   ],
   "metadata": {}
  },
  {
   "cell_type": "code",
   "execution_count": null,
   "source": [
    "roslaunch rubot_control rubot_self_nav.launch"
   ],
   "outputs": [],
   "metadata": {}
  },
  {
   "cell_type": "markdown",
   "source": [
    "Careful:\n",
    "- we have included in launch file: gazebo spawn, rviz visualization and rubot_nav node execution \n",
    "- Verify in rviz you have to change the fixed frame to \"odom\" frame"
   ],
   "metadata": {}
  },
  {
   "cell_type": "markdown",
   "source": [
    "![Getting Started](./Images/1_rubot_self_nav.png)"
   ],
   "metadata": {}
  },
  {
   "cell_type": "markdown",
   "source": [
    "The algorithm description functionality is:\n",
    "- \"rubot_self_nav.py\": The Python script makes the robot go forward. \n",
    "    - LIDAR is allways searching the closest distance and the angle\n",
    "    - when this distance is lower than a threshold, the robot goes backward with angular speed in the oposite direction of the minimum distance angle."
   ],
   "metadata": {}
  },
  {
   "cell_type": "markdown",
   "source": [
    "### Exercise 5:\n",
    "\n",
    "Create another rubot_self_nav1.py file to improve the navigation process of our gopigo3 rubot in the laboratory maze"
   ],
   "metadata": {}
  },
  {
   "cell_type": "markdown",
   "source": [
    "### Exercise 6:\n",
    "\n",
    "Create another rubot_self_nav1.py file to improve the navigation process of our gopigo3 rubot in the laboratory maze following the right wall and the left wall.\n",
    "\n",
    "Follow the instructions to create the follow_wall.py python file: https://www.theconstructsim.com/wall-follower-algorithm/\n",
    "\n",
    "To verufy, type:\n",
    "- \n"
   ],
   "metadata": {}
  }
 ],
 "metadata": {
  "kernelspec": {
   "display_name": "Python 3.6.9 64-bit",
   "name": "python369jvsc74a57bd031f2aee4e71d21fbe5cf8b01ff0e069b9275f58929596ceb00d14d90e3e16cd6"
  },
  "language_info": {
   "name": "python",
   "version": ""
  },
  "metadata": {
   "interpreter": {
    "hash": "31f2aee4e71d21fbe5cf8b01ff0e069b9275f58929596ceb00d14d90e3e16cd6"
   }
  }
 },
 "nbformat": 4,
 "nbformat_minor": 2
}