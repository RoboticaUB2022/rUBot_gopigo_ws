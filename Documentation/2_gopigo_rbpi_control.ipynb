{
 "cells": [
  {
   "cell_type": "markdown",
   "metadata": {},
   "source": [
    "# Control of gopigo3 in RaspberryPi"
   ]
  },
  {
   "cell_type": "markdown",
   "metadata": {},
   "source": [
    "In a hospital, a delivery robot carries samples or food from one room to another. \n",
    "\n",
    "The main objectives are:\n",
    "- Assemble a real robot (gopigo3)\n",
    "- Control the gopigo3 robot movement\n",
    "- use SLAM (Simultaneous Localization and Mapping) techniques to generate and store a map of the room \n",
    "- use Navigation ROS package to find an optimal trajectory to reach a speciffic target position\n",
    "- Define a route to be followed by the gopigo3 robot using Navigation package\n",
    "\n",
    "let's see how to fulfill these objectives"
   ]
  },
  {
   "cell_type": "markdown",
   "metadata": {},
   "source": [
    "## Gopigo3 robot prototype setup\n",
    "\n",
    "This tobot prototype is based on:\n",
    "- On-board computer based on raspberrypi3 board\n",
    "- 2 DC-motor with encoder for differential drive controller\n",
    "- RaspiCAM RGB camera\n",
    "- LIDAR sensor"
   ]
  },
  {
   "cell_type": "markdown",
   "metadata": {},
   "source": [
    "![Getting Started](./Images/1_gopigo3_UB.png)"
   ]
  },
  {
   "cell_type": "markdown",
   "metadata": {},
   "source": [
    "The raspberrypi3 onboard is preinstalled with:\n",
    "- raspbian OS\n",
    "- ROS source installation with rviz\n",
    "- a \"master_ws_original_copy\" repository. You have NOT to use this repository. This could be used only in case you need to restart the repository with the original settings\n",
    "- a \"gopigo3_rbpi3_ws\" repository. This will be used by the students to perform the project with gopigo3 robot. This folder will be placed in the raspberrypi3 Desktop.\n",
    "\n",
    "This repository is located in /home/pi/Desktop folder and it is already compiled.\n",
    "\n",
    "#### Notebook visualization in raspberrypi\n",
    "Use the NBviewer program from Jupyter:\n",
    "\n",
    "https://nbviewer.ipython.org/\n",
    "\n",
    "#### Raspberrypi configuration and setup\n",
    "\n",
    "The raspberrypi3 is configured:\n",
    "- to generate a hotspot \n",
    "- VNC activated \n",
    "- raspicam activated "
   ]
  },
  {
   "cell_type": "markdown",
   "metadata": {},
   "source": [
    "When powering the raspberrypi3, generates a hotspot you have to connect to:\n",
    "- SSID name: rubot_10 \n",
    "- password \"CorrePiCorre\"\n",
    "\n",
    "Once you are connected to this network you will be able to connect your computer to the raspberrypi3 using VNC viewer:\n",
    "- download and install the VNC viewer for windows at: https://www.realvnc.com/en/connect/download/viewer/\n",
    "- Select the raspberrypi IP address: 192.168.4.1\n",
    "- you have to specify:\n",
    "    - user: pi\n",
    "    - password: raspberry\n",
    "- You will have the raspberrypi3 desktop on your windows VNC screen"
   ]
  },
  {
   "cell_type": "markdown",
   "metadata": {},
   "source": [
    "![Getting Started](./Images/2_vnc1.png)"
   ]
  },
  {
   "cell_type": "markdown",
   "metadata": {},
   "source": [
    "If you not have the \"gopigo3_rbpi3_ws\" folder in your desktop, you can \"transfer\" folder from your PC (it takes 30s)\n",
    "\n",
    "The first time you copy the folder, you need to compile the workspace:\n",
    "- open a terminal in the ws\n",
    "- type \"catkin_make\" (it takes 10min)"
   ]
  },
  {
   "cell_type": "markdown",
   "metadata": {},
   "source": [
    "Carefull!: Some actions have to be done:\n",
    "- review the ~/.bashrc: source to the ws and delete the environment variables\n",
    "- make executable the c++ and python files"
   ]
  },
  {
   "cell_type": "markdown",
   "metadata": {},
   "source": [
    "## 2. gopigo3 first control movements\n",
    "First, let's control the gopigo3 movement to perform:\n",
    "- movement control using keyboard\n",
    "- movement control with specific python script\n",
    "- autonomous navigation\n",
    "- autonomous navigation following right or left wall\n",
    "- Navigation to speciffic POSE\n",
    "\n",
    "We have created a specific package \"gopigo_control\" where all these controls are programed.\n",
    "You can review from the \"gopigo3_rbpi3_ws\" workspace the src/gopigo_control folder where there are 2 new folders:\n",
    "- scrip folder: with the python programs for specific movement control\n",
    "- launch folder: with programs to launch the movement control\n"
   ]
  },
  {
   "cell_type": "markdown",
   "metadata": {},
   "source": [
    "![Getting Started](./Images/2_vnc2.png)"
   ]
  },
  {
   "cell_type": "markdown",
   "metadata": {},
   "source": [
    "To properly perform a especific movement control we have first to:\n",
    "- launch the gopigo3 node: able to control de 2 motors and measure the odometry\n",
    "- launch the raspicam node\n",
    "- launch the LIDAR sensor node\n",
    "- launch the rUBot_nav node to perform the specific movement control"
   ]
  },
  {
   "cell_type": "markdown",
   "metadata": {},
   "source": [
    "![Getting Started](./Images/2_nodes_cam.png)"
   ]
  },
  {
   "cell_type": "markdown",
   "metadata": {},
   "source": [
    "We will create specific python files and launch files for each movement control"
   ]
  },
  {
   "cell_type": "markdown",
   "metadata": {},
   "source": [
    "### 1. Keyboard movement control\n",
    "\n",
    "To control the gopigo robot with keyboard, we need to install \"teleop_tools\" package. This is already installed in our master_ws as you can see in the previous figure.\n",
    "\n",
    "You will only need to:\n",
    "- launch the gopigo3 node\n",
    "- launch the key_teleop node\n",
    "\n",
    "Open 1 terminal and type:\n",
    "- roslaunch gopigo3_node gopigo3.launch\n",
    "\n",
    "Then open a new terminal and type:\n",
    "- rosrun key_teleop key_teleop.py /key_vel:=/cmd_vel\n",
    "\n",
    "Carefull: if there are problems, make a source in each terminal"
   ]
  },
  {
   "cell_type": "markdown",
   "metadata": {},
   "source": [
    "![Getting Started](./Images/2_key.png)"
   ]
  },
  {
   "cell_type": "markdown",
   "metadata": {},
   "source": [
    "Open a new terminal and see all the nodes and topics involved:\n",
    "- type rqt_graph"
   ]
  },
  {
   "cell_type": "markdown",
   "metadata": {},
   "source": [
    "Pres q and crtl+C to close the terminals"
   ]
  },
  {
   "cell_type": "markdown",
   "metadata": {},
   "source": [
    "### 2. Movement control with specific python script\n",
    "\n",
    "You want to perform the movement control in \"move3_gopigo_distance.py\" simulation ws.\n",
    "\n",
    "You will only need to:\n",
    "- copy this python file to the script folder\n",
    "- create a new \"move_gopigo3.launch\" file to launch gopigo3 and the control node\n",
    "\n",
    "Carefull!: be sure the new python file is executable\n",
    "\n",
    "Type:"
   ]
  },
  {
   "cell_type": "code",
   "execution_count": null,
   "metadata": {},
   "outputs": [],
   "source": [
    "roslaunch gopigo_control move_gopigo3.launch"
   ]
  },
  {
   "cell_type": "code",
   "execution_count": null,
   "metadata": {},
   "outputs": [],
   "source": [
    "<launch>\n",
    "  <node name=\"gopigo3\" pkg=\"gopigo3_node\" type=\"gopigo3_driver.py\" output=\"screen\" />\n",
    "  <!-- run gopigo   -->\n",
    "  <arg name=\"v\" default=\"0.1\"/>\n",
    "  <arg name=\"w\" default=\"0\"/>\n",
    "  <arg name=\"d\" default=\"0.3\"/>\n",
    "  <node pkg=\"gopigo_control\" type=\"move_gopigo3.py\" name=\"rubot_nav\" output=\"screen\" >\n",
    "    <param name=\"v\" value=\"$(arg v)\"/>\n",
    "    <param name=\"w\" value=\"$(arg w)\"/>\n",
    "    <param name=\"d\" value=\"$(arg d)\"/>\n",
    "  </node>\n",
    "</launch>"
   ]
  },
  {
   "cell_type": "markdown",
   "metadata": {},
   "source": [
    "### 3. Autonomous navigation\n",
    "\n",
    "For autonomous navigation you need the LIDAR sensor.\n",
    "\n",
    "First test your LIDAR angles with the program: rubot_lidar_test.py\n",
    "\n",
    "We will have to launch the following nodes:\n",
    "- the gopigo3 node for driving control\n",
    "- the ydlidar node (or rplidar)\n",
    "- the raspicam node\n",
    "- the lidar_test node"
   ]
  },
  {
   "cell_type": "markdown",
   "metadata": {},
   "source": [
    "To launch these nodes we need one terminal for each node. We will execute in different terminals:\n",
    "\n",
    "type the following commands to each terminal:"
   ]
  },
  {
   "cell_type": "code",
   "execution_count": null,
   "metadata": {},
   "outputs": [],
   "source": [
    "roslaunch gopigo3_node gopigo3.launch\n",
    "roslaunch ydlidar lidar.launch (or roslaunch rplidar_ros rplidar.launch)\n",
    "roslaunch raspicam_node camerav2_1280x960_10fps.launch enable_raw:=true camera_frame_id:=\"laser_frame\"\n",
    "rosrun gopigo_control rubot_lidar_test.py"
   ]
  },
  {
   "cell_type": "markdown",
   "metadata": {},
   "source": [
    "You need to verify that the forward direction corresponds to the zero angle. Is it true???\n",
    "\n",
    "Now you can perform the autonomous navigation defined in \"rubot_self_nav.py\"\n",
    "\n",
    "Carefull!: be sure the new python file is executable\n",
    "\n",
    "We will have to launch the following nodes:\n",
    "- the gopigo3 node for driving control\n",
    "- the ydlidar node (or rplidar)\n",
    "- the raspicam node\n",
    "- the rubot_nav node for autonomous navigation"
   ]
  },
  {
   "cell_type": "markdown",
   "metadata": {},
   "source": [
    "You can create a compact \"rubotYD_self_nav.launch\" file for gopigo3 robots using YDLidar (similar for the RPLidar):\n",
    "\n",
    "- roslaunch gopigo_control rubotYD_self_nav.launch"
   ]
  },
  {
   "cell_type": "code",
   "execution_count": null,
   "metadata": {},
   "outputs": [],
   "source": [
    "<launch>\n",
    "  <!-- launch gopigo3   -->\n",
    "  <include file=\"$(find gopigo3_node)/launch/gopigo3.launch\"/>\n",
    "  <!-- launch ydlidar   -->\n",
    "  <include file=\"$(find ydlidar)/launch/lidar.launch\"/>\n",
    "\n",
    "  <!-- launch raspicam   -->\n",
    "  <include file=\"$(find raspicam_node)/launch/camerav2_1280x960_10fps.launch\">\n",
    "\t<arg name=\"enable_raw\" value=\"true\"/>\n",
    "\t<arg name=\"camera_frame_id\" value=\"base_scan\"/>\n",
    "  </include>\n",
    "  <!-- launch obstacle avoidance   -->\n",
    "    <arg name=\"LIDAR\" default=\"YD\" />\n",
    "    <arg name=\"distance_laser\" default=\"0.3\" />\n",
    "    <arg name=\"speed_factor\" default=\"0.1\"/>\n",
    "    <arg name=\"forward_speed\" default=\"3.8\" />\n",
    "    <arg name=\"backward_speed\" default=\"-1.5\" />\n",
    "    <arg name=\"rotation_speed\" default=\"20\" />\n",
    "    <node name=\"rubot_nav\" pkg=\"gopigo_control\" type=\"rubot_self_nav.py\" output=\"screen\" >\n",
    "        <param name=\"LIDAR\" value=\"$(arg LIDAR)\"/>\n",
    "        <param name=\"distance_laser\" value=\"$(arg distance_laser)\"/>\n",
    "        <param name=\"speed_factor\" value=\"$(arg speed_factor)\"/>\n",
    "        <param name=\"forward_speed\" value=\"$(arg forward_speed)\"/>\n",
    "        <param name=\"backward_speed\" value=\"$(arg backward_speed)\"/>\n",
    "        <param name=\"rotation_speed\" value=\"$(arg rotation_speed)\"/>\n",
    "    </node>    \n",
    "  <!-- Show in Rviz   -->\n",
    "  <!--<node name=\"rviz\" pkg=\"rviz\" type=\"rviz\" args=\"-d $(find gopigo_control)/rviz/laserscan.rviz\"/>-->\n",
    "</launch>"
   ]
  },
  {
   "cell_type": "markdown",
   "metadata": {},
   "source": [
    "In order to see the rubot with the topics information we will use rviz. Open rviz in a new terminal.\n",
    "\n",
    "In rviz, select the fixed frame to \"base_scan\", and add Camera and LaserScan with the corresponding topics names.\n",
    "\n",
    "You can then save the config file as laserscan.rviz name and use it in the launch file"
   ]
  },
  {
   "cell_type": "markdown",
   "metadata": {},
   "source": [
    "![Getting Started](./Images/2_self_nav.png)"
   ]
  },
  {
   "cell_type": "markdown",
   "metadata": {},
   "source": [
    "A launch file is created to integrate all the needed roslaunch parameters but you can change the defauld values with this syntax:"
   ]
  },
  {
   "cell_type": "code",
   "execution_count": null,
   "metadata": {},
   "outputs": [],
   "source": [
    "roslaunch gopigo_control rubotYD_self_nav.launch distance_laser:=0.2 speed_factor:=1.3"
   ]
  },
  {
   "cell_type": "markdown",
   "metadata": {},
   "source": [
    "### 4. Wall Follower\n",
    "\n",
    "This control task consist on find a wall and follow it at a certain distance. We will see that this is an important control task because this will be used later to make accurate maps of working environments.\n",
    "\n",
    "There are 2 main tasks:\n",
    "- Create a python file to perform the wall follower in the maze of our gopigo3 robot\n",
    "- Create a launch file to initialyse all the needed nodes in our system for autonomous navigation\n",
    "\n",
    "We have developed 2 different methods for wall follower:\n",
    "- Geometrical method\n",
    "- Lidar ranges method"
   ]
  },
  {
   "cell_type": "markdown",
   "metadata": {},
   "source": [
    "#### a) Geometrical method\n",
    "In src folder you create the python file for wall follower purposes\n",
    "\n",
    "The instructions to perform the python program are in the notebook: \n",
    "https://github.com/Albert-Alvarez/ros-gopigo3/blob/lab-sessions/develop/ROS%20con%20GoPiGo3%20-%20S4.md\n"
   ]
  },
  {
   "cell_type": "markdown",
   "metadata": {},
   "source": [
    "<img src=\"./Images/2_wall_follower1.png\">"
   ]
  },
  {
   "cell_type": "markdown",
   "metadata": {},
   "source": [
    "Create a launch folder for the launch files"
   ]
  },
  {
   "cell_type": "code",
   "execution_count": null,
   "metadata": {},
   "outputs": [],
   "source": [
    "roslaunch gopigo_control wall_follower_gm.launch"
   ]
  },
  {
   "cell_type": "code",
   "execution_count": null,
   "metadata": {},
   "outputs": [],
   "source": [
    "<launch>\n",
    "  <!-- launch gopigo3   -->\n",
    "  <include file=\"$(find gopigo3_node)/launch/gopigo3.launch\"/>\n",
    "  <!-- launch ydlidar   -->\n",
    "  <include file=\"$(find ydlidar)/launch/lidar.launch\"/>\n",
    "    <!-- LIDAR zero angle correction 180º   -->\n",
    "    <node pkg=\"tf\" type=\"static_transform_publisher\" name=\"base_link_to_base_scan\"\n",
    "        args=\"-0.03 0.01 0.15 3.1416  0.0 0.0   /base_link /base_scan 40\" />\n",
    "  <!-- launch raspicam   -->\n",
    "  <include file=\"$(find raspicam_node)/launch/camerav2_1280x960_10fps.launch\">\n",
    "\t<arg name=\"enable_raw\" value=\"true\"/>\n",
    "\t<arg name=\"camera_frame_id\" value=\"base_scan\"/>\n",
    "  </include>\n",
    "  <!-- launch follow wall   -->\n",
    "  <arg name=\"kp\" default=\"0.5\" />\n",
    "  <arg name=\"distance_reference\" default=\"0.3\" />\n",
    "  <arg name=\"lookahead_distance\" default=\"0.3\" />\n",
    "  <arg name=\"forward_speed\" default=\"0.1\" />\n",
    "  <arg name=\"theta\" default=\"40.0\" />\n",
    "  <node name=\"wall_follower_controller\" pkg=\"gopigo_control\" type=\"wall_follower_node.py\" output=\"screen\" >\n",
    "    <param name=\"kp\" value=\"$(arg kp)\"/>\n",
    "    <param name=\"distance_reference\" value=\"$(arg distance_reference)\"/>\n",
    "    <param name=\"lookahead_distance\" value=\"$(arg lookahead_distance)\"/>\n",
    "    <param name=\"forward_speed\" value=\"$(arg forward_speed)\"/>\n",
    "    <param name=\"theta\" value=\"$(arg theta)\"/>\n",
    "  </node>\n",
    "  <!-- Show in Rviz   -->\n",
    "  <node name=\"rviz\" pkg=\"rviz\" type=\"rviz\" args=\"-d $(find obstacle_avoidance)/rviz/laserscan.rviz\"/>\n",
    "</launch>"
   ]
  },
  {
   "cell_type": "markdown",
   "metadata": {},
   "source": [
    "#### b) ranges method\n",
    "In src folder you create the python file for wall follower purposes\n",
    "\n",
    "The algorith is based on laser ranges test and depends on the LIDAR type:\n"
   ]
  },
  {
   "cell_type": "markdown",
   "metadata": {},
   "source": [
    "<img src=\"./Images/1_wall_follower2.png\">"
   ]
  },
  {
   "cell_type": "markdown",
   "metadata": {},
   "source": [
    "Type:\n",
    "- roslaunch gopigo_control rubotRP_wall_follower_rg.launch"
   ]
  },
  {
   "cell_type": "code",
   "execution_count": null,
   "metadata": {},
   "outputs": [],
   "source": [
    "<launch>\n",
    "  <!-- launch gopigo3   -->\n",
    "  <include file=\"$(find gopigo3_node)/launch/gopigo3.launch\"/>\n",
    "  <!-- launch ydlidar   -->\n",
    "  <include file=\"$(find rplidar_ros)/launch/rplidar.launch\"/>\n",
    "\n",
    "  <!-- launch raspicam   -->\n",
    "  <!--<include file=\"$(find raspicam_node)/launch/camerav2_1280x960_10fps.launch\">\n",
    "\t<arg name=\"enable_raw\" value=\"true\"/>\n",
    "\t<arg name=\"camera_frame_id\" value=\"base_scan\"/>\n",
    "  </include>-->\n",
    "  <!-- launch follow wall   -->\n",
    "\t<arg name=\"LIDAR\" default=\"RP\" />\n",
    "  <node name=\"wall_follow\" pkg=\"gopigo_control\" type=\"rubot_wall_follower_rg.py\" output=\"screen\" >\n",
    "\t<param name=\"LIDAR\" value=\"$(arg LIDAR)\"/>\n",
    "  </node>\n",
    "  <!-- Show in Rviz   -->\n",
    "  <!--<node name=\"rviz\" pkg=\"rviz\" type=\"rviz\" args=\"-d $(find obstacle_avoidance)/rviz/laserscan.rviz\"/>-->\n",
    "</launch>"
   ]
  },
  {
   "cell_type": "markdown",
   "metadata": {},
   "source": [
    "### 5. Go to POSE\n",
    "\n",
    "The objective is to program the robot to reach a speciffic target POSE defining:\n",
    "- x position\n",
    "- y position\n",
    "- angle orientation\n",
    "\n",
    "We can take the same python script you have programed for simulated Gazebo environment\n",
    "\n",
    "Type:\n",
    "\n",
    "- roslaunch gopigo_control rubotYD_go2pose.launch"
   ]
  }
 ],
 "metadata": {
  "interpreter": {
   "hash": "767d51c1340bd893661ea55ea3124f6de3c7a262a8b4abca0554b478b1e2ff90"
  },
  "kernelspec": {
   "display_name": "Python 2.7.17 64-bit",
   "name": "python3"
  },
  "language_info": {
   "name": "python",
   "version": "2.7.17"
  },
  "metadata": {
   "interpreter": {
    "hash": "31f2aee4e71d21fbe5cf8b01ff0e069b9275f58929596ceb00d14d90e3e16cd6"
   }
  }
 },
 "nbformat": 4,
 "nbformat_minor": 2
}
