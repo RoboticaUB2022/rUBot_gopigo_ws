{
 "cells": [
  {
   "cell_type": "markdown",
   "metadata": {},
   "source": [
    "# Gopigo SLAM & navigation"
   ]
  },
  {
   "cell_type": "markdown",
   "metadata": {},
   "source": [
    "Using SLAM (short for Simultaneous Localization and Mapping) techniques, you will be able to execute autonomous navigation with GoPiGo3.\n",
    "\n",
    "SLAM is a technique used in robotics to explore and map an unknown environment while estimating the pose of the robot itself. As it moves all around, it will be acquiring structured information of the surroundings by processing the raw data coming from its sensors.\n",
    "\n",
    "For optimal and easy-to-understand coverage of the topic of SLAM, we will implement a 360º-coverage Laser Distance Sensor (LDS) in the virtual robot. \n",
    "\n",
    "There are low-cost versions of this sensor technology, such as EAI YDLIDAR X4 (available at https://www.robotshop.com/es/es/escaner-laser-360-ydlidar-x4.html), which is the one we will make use of in the next chapter.\n"
   ]
  },
  {
   "cell_type": "markdown",
   "metadata": {},
   "source": [
    "### Install ROS navigation & SLAM packages\n",
    "First, let's prepare your machine with the required ROS packages needed for the navigation stack (http://wiki.ros.org/navigation):"
   ]
  },
  {
   "cell_type": "code",
   "execution_count": null,
   "metadata": {},
   "outputs": [],
   "source": [
    "sudo apt install ros-melodic-navigation"
   ]
  },
  {
   "cell_type": "markdown",
   "metadata": {},
   "source": [
    "And finally the slam_gmapping package, that is already available in its binary version (https://wiki.ros.org/slam_gmapping)"
   ]
  },
  {
   "cell_type": "code",
   "execution_count": null,
   "metadata": {},
   "outputs": [],
   "source": [
    "sudo apt-get install ros-melodic-slam-gmapping"
   ]
  },
  {
   "cell_type": "markdown",
   "metadata": {},
   "source": [
    "Open the .bashrc file and verify to source to the proper workspace:\n",
    "\n",
    "source ~/rUBot_gopigo_ws_/devel/setup.bash"
   ]
  },
  {
   "cell_type": "markdown",
   "metadata": {},
   "source": [
    "## What do you need to perform robot navigation with ROS?\n",
    "- Mapping: First, you need a map\n",
    "- Localization: Next you need to localize the robot on that map\n",
    "- Path Planning: Now you can send goal locations to the robot\n",
    "- Obstacle avoidance: Finally, you need to avoid obstacles"
   ]
  },
  {
   "cell_type": "markdown",
   "metadata": {},
   "source": [
    "# Navigation with gopigo3 in a custom maze\n",
    "To navigate with gopigo3 robot in a custom maze we have first to create a virtual_slam package with dependencies:\n",
    "- roscpp\n",
    "- rospy\n",
    "- std_msgs\n",
    "- sensor_msgs\n",
    "- geometry_msgs\n",
    "- nav_msgs\n",
    "Copy the folders (launch, maps, param, rviz,worlds) to the package folder and compile the repository.\n",
    "\n",
    "Now you can follow the next steps:"
   ]
  },
  {
   "cell_type": "markdown",
   "metadata": {},
   "source": [
    "### 1. Spawn the robot in our custom made maze\n",
    "We open a new terminal and type:"
   ]
  },
  {
   "cell_type": "code",
   "execution_count": null,
   "metadata": {},
   "outputs": [],
   "source": [
    "roslaunch virtual_slam gopigo3_world.launch"
   ]
  },
  {
   "cell_type": "markdown",
   "metadata": {},
   "source": [
    "### 2. Generate the MAP\n",
    "We will start the slam_gmapping node. This node is highly configurable and has lots of parameters you can change in order to improve the mapping performance. (http://wiki.ros.org/gmapping)\n",
    "\n",
    "Let's now check some of the most important ones that usually have to be changed:\n",
    "\n",
    "- base_frame (default: \"base_link\"): Indicates the name of the frame attached to the mobile base.\n",
    "- map_update_interval (default: 5.0): Sets the time (in seconds) to wait until update the map. (I take 1s)\n",
    "- delta (default: 0.05): Sets the resolution of the map (I take 0.01m)\n",
    "- linearUpdate (default: 1.0): Sets the linear distance that the robot has to move in order to process a laser reading.\n",
    "- temporalUpdate (default: -1.0): Sets the time (in seconds) to wait between laser readings. If this value is set to -1.0, then this function is turned off.\n",
    "\n",
    "Open the \"gmapping.launch\" file and change properly the parameters you consider."
   ]
  },
  {
   "cell_type": "code",
   "execution_count": null,
   "metadata": {},
   "outputs": [],
   "source": [
    "roslaunch virtual_slam gopigo3_slam.launch"
   ]
  },
  {
   "cell_type": "markdown",
   "metadata": {},
   "source": [
    "Teleoperate the robot to make it cover as much as possible of the surface of the current Gazebo world. Let's do this as usual with the teleoperation package:"
   ]
  },
  {
   "cell_type": "code",
   "execution_count": null,
   "metadata": {},
   "outputs": [],
   "source": [
    "rosrun key_teleop key_teleop.py /key_vel:=/cmd_vel"
   ]
  },
  {
   "cell_type": "markdown",
   "metadata": {},
   "source": [
    "Or use the navigation program you have designed to follow the walls for exemple to properly generate the map."
   ]
  },
  {
   "cell_type": "markdown",
   "metadata": {},
   "source": [
    "![Getting Started](./Images/3_slam_map.png)"
   ]
  },
  {
   "cell_type": "markdown",
   "metadata": {},
   "source": [
    "### 3. Open the MAP saver and save the map\n",
    "We can open now the map_saver file in map_server package to save the map in specific directory:"
   ]
  },
  {
   "cell_type": "code",
   "execution_count": null,
   "metadata": {},
   "outputs": [],
   "source": [
    "rosrun map_server map_saver -f /media/sf_github_manelpuig/rUBot_gopigo_ws/src/virtual_slam/maps/maze1"
   ]
  },
  {
   "cell_type": "markdown",
   "metadata": {},
   "source": [
    "The map is generated with two files of the formats indicated in the preceding SLAM process subsection, that is, .pgm and .yaml\n",
    "\n",
    "If we use the standard default parameter values we obtain:"
   ]
  },
  {
   "cell_type": "code",
   "execution_count": null,
   "metadata": {},
   "outputs": [],
   "source": [
    "image: ./test_map.pgm\n",
    "resolution: 0.010000\n",
    "origin: [-20.000000, -20.000000, 0.000000]\n",
    "negate: 0\n",
    "occupied_thresh: 0.65\n",
    "free_thresh: 0.196"
   ]
  },
  {
   "cell_type": "markdown",
   "metadata": {},
   "source": [
    "If we use new values of \"gmapping.launch\" parameters:\n",
    "- delta: 0.01m \n",
    "- map_update_interval: 1s\n",
    "\n",
    "And from the gopigo3.urdf model in differentialdrive pluggin:\n",
    "- Acceleration: 0.5\n",
    "- Torque: 1\n",
    "\n",
    "we obtain a more accurate movement and map"
   ]
  },
  {
   "cell_type": "markdown",
   "metadata": {},
   "source": [
    "![Getting Started](./Images/3_rubot_gmapping2.png)"
   ]
  },
  {
   "cell_type": "markdown",
   "metadata": {},
   "source": [
    "You will get two files in the specified folder of your workspace: maze.pgm and maze.yaml.\n",
    "\n",
    "Provided with the map, we are ready to perform robot navigation with the GoPiGo3."
   ]
  },
  {
   "cell_type": "markdown",
   "metadata": {},
   "source": [
    "### 3. Robot Navigation\n",
    "When the robot moves around a map, it needs to know which is its POSE within the map.\n",
    "\n",
    "The AMCL (Adaptive Monte Carlo Localization) package provides the amcl node, which uses the MCL system in order to track the localization of a robot moving in a 2D space. This node subscribes to the data of the laser, the laser-based map, and the transformations of the robot, and publishes its estimated position in the map. On startup, the amcl node initializes its particle filter according to the parameters provided.\n",
    "\n",
    "This AMCL node is also highly customizable and we can configure many parameters in order to improve its performance. (http://wiki.ros.org/amcl)\n",
    "\n",
    "Let's have a look at some of the most important ones:\n",
    "\n",
    "General Parameters\n",
    "\n",
    "- odom_model_type (default: \"diff\"): It puts the odometry model to use. It can be \"diff,\" \"omni,\" \"diff-corrected,\" or \"omni-corrected.\"\n",
    "- base_frame_id (default: \"base_link\"): Indicates the frame associated with the robot base.\n",
    "\n",
    "Filter Parameters\n",
    "\n",
    "These parameters will allow you to configure the way that the particle filter performs.\n",
    "- update_min_d (default: 0.2): Sets the linear distance (in meters) that the robot has to move in order to perform a filter update.\n",
    "- update_min_a (default: π/6.0): Sets the angular distance (in radians) that the robot has to move in order to perform a filter update.\n",
    "\n",
    "So, basically, we have to do the following:\n",
    "- You have to close the slam_gmapping node\n",
    "- you launched an amcl node using the preconfigured amcl_demo.launch file.\n",
    "- you set up an initial pose by using the 2D Pose Estimate tool (which published that pose to the /initialpose topic).\n",
    "- Then, you started moving the robot around the room, and the amcl node began reading the data published into the laser topic (/scan), the map topic(/map), and the transform topic (/tf), and published the estimated pose where the robot was in to the /amcl_pose and the /particlecloud topics.\n",
    "- Finally, via RViz, you accesed the data being published by this node into the /particlecloud topic, so you were able to vizualize it, thanks to the cloud of \"arrows,\" which were indicating the most probable position the robot was in, and its orientation.\n",
    "\n",
    "Take care in launch file to read the correct map file in \"maps\" folder"
   ]
  },
  {
   "cell_type": "markdown",
   "metadata": {},
   "source": [
    "Open the gopigo3 robot in maze world (if you have closed it before)"
   ]
  },
  {
   "cell_type": "code",
   "execution_count": null,
   "metadata": {},
   "outputs": [],
   "source": [
    "roslaunch virtual_slam gopigo3_world.launch"
   ]
  },
  {
   "cell_type": "markdown",
   "metadata": {},
   "source": [
    "Open Navigation launch file including the map location:"
   ]
  },
  {
   "cell_type": "code",
   "execution_count": null,
   "metadata": {},
   "outputs": [],
   "source": [
    "roslaunch virtual_slam gopigo3_navigation.launch"
   ]
  },
  {
   "cell_type": "markdown",
   "metadata": {},
   "source": [
    "![Getting Started](./Images/3_slam_maze.png)"
   ]
  },
  {
   "cell_type": "markdown",
   "metadata": {},
   "source": [
    "Careful!!\n",
    "\n",
    "global & local_costmap_params.yaml: specify the robot_base_frame as \"base_footprint\" link according to the URDF file. This link is the first one and has TF connection to the world\n"
   ]
  }
 ],
 "metadata": {
  "kernelspec": {
   "display_name": "Python 3.6.9 64-bit",
   "name": "python369jvsc74a57bd031f2aee4e71d21fbe5cf8b01ff0e069b9275f58929596ceb00d14d90e3e16cd6"
  },
  "language_info": {
   "name": "python",
   "version": ""
  },
  "metadata": {
   "interpreter": {
    "hash": "31f2aee4e71d21fbe5cf8b01ff0e069b9275f58929596ceb00d14d90e3e16cd6"
   }
  }
 },
 "nbformat": 4,
 "nbformat_minor": 2
}
