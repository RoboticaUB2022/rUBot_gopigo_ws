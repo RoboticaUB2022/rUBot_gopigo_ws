{
 "cells": [
  {
   "cell_type": "markdown",
   "metadata": {},
   "source": [
    "# Navigation & SLAM gopigo3 in RaspberryPi"
   ]
  },
  {
   "cell_type": "markdown",
   "metadata": {},
   "source": [
    "Autonomous navigation refers that the robot is able to move autonomously around the environment avoiding any obstacle.\n",
    "\n",
    "In a hospital, a delivery robot carries samples or food from one room to another. \n",
    "\n",
    "The main objectives are:\n",
    "- Create a real robot (gopigo3))\n",
    "- Install the onboard raspberrypi with ROS Melodic, gopigo3 drivers and sensors\n",
    "- perform autonomous navigation in the Hospital environment\n",
    "- generate and store a map of the hospital \n",
    "- use SLAM (Simultaneous Localization and Mapping) techniques to find an optimal trajectory to reach a speciffic hospital target position\n",
    "\n",
    "let's see how to fulfill these objectives"
   ]
  },
  {
   "source": [
    "<img src=\"./Images/1_gopigo.png\">"
   ],
   "cell_type": "markdown",
   "metadata": {}
  },
  {
   "source": [
    "### ROS workspace in Raspberrypi\n",
    "First, let's prepare your raspberrypi with the required ROS workspace and packages needed for the navigation:\n"
   ],
   "cell_type": "markdown",
   "metadata": {}
  },
  {
   "cell_type": "code",
   "execution_count": null,
   "metadata": {},
   "outputs": [],
   "source": [
    "mkdir pi_ws\n",
    "cd pi_ws\n",
    "mkdir src\n",
    "catkin_make"
   ]
  },
  {
   "source": [
    "copy in ~.bashrc the lines:\n",
    "\n"
   ],
   "cell_type": "markdown",
   "metadata": {}
  },
  {
   "source": [
    "source ~/pi_ws/devel/setup.sh\n",
    "export ROS_IP=192.168.4.1\n",
    "export ROS_MASTER_URI=http://192.168.4.1:11311"
   ],
   "cell_type": "code",
   "metadata": {},
   "execution_count": null,
   "outputs": []
  },
  {
   "source": [
    "Be sure that in the PC the .bashrc knows that the roscore runs in the RaspberryPi:"
   ],
   "cell_type": "markdown",
   "metadata": {}
  },
  {
   "cell_type": "code",
   "execution_count": null,
   "metadata": {},
   "outputs": [],
   "source": [
    "source ~/gopigo_pc_ws/devel/setup.sh\n",
    "export ROS_IP=192.168.18.84\n",
    "export ROS_MASTER_URI=http://192.168.4.1:11311"
   ]
  },
  {
   "source": [
    "## Install needed packages\n",
    "\n",
    "To perform autonomous Navigation, different packages are needed:\n",
    "- change to directory ~/pi_ws/src\n",
    "- prepare the raspberrypi workspace in the PC and copy it to RBPi\n",
    "- compile with catkin_make\n",
    "\n",
    "You can install the diferent packages following the instructions:"
   ],
   "cell_type": "markdown",
   "metadata": {}
  },
  {
   "source": [
    "### Install Navigation"
   ],
   "cell_type": "markdown",
   "metadata": {}
  },
  {
   "source": [],
   "cell_type": "code",
   "metadata": {},
   "execution_count": null,
   "outputs": []
  },
  {
   "cell_type": "markdown",
   "metadata": {},
   "source": [
    "### Install SLAM"
   ]
  },
  {
   "cell_type": "code",
   "execution_count": null,
   "metadata": {},
   "outputs": [],
   "source": []
  },
  {
   "source": [
    "### Launch the gopigo3\n",
    "\n",
    "Open diferent terminals to launch the diferent nodes:\n",
    "- gopigo3_node\n",
    "- ydlidar or rplidar\n",
    "- raspicam"
   ],
   "cell_type": "markdown",
   "metadata": {}
  },
  {
   "source": [
    "roslaunch gopigo3_node gopigo3.launch\n",
    "roslaunch ydlidar lidar.launch (or roslaunch rplidar_ros rplidar.launch)\n",
    "roslaunch raspicam_node camerav2_1280x960_10fps.launch enable_raw:=true camera_frame_id:=\"laser_frame\""
   ],
   "cell_type": "code",
   "metadata": {},
   "execution_count": null,
   "outputs": []
  },
  {
   "source": [
    "we can see now the nodes that are running in our ROS workspace:"
   ],
   "cell_type": "markdown",
   "metadata": {}
  },
  {
   "source": [
    "<img src=\"./Images/L02_nodes_cam.png\">"
   ],
   "cell_type": "markdown",
   "metadata": {}
  },
  {
   "source": [
    "### 2. Generate the MAP\n",
    "\n",
    "We need to launch the slam_gmapping node"
   ],
   "cell_type": "markdown",
   "metadata": {}
  },
  {
   "cell_type": "code",
   "execution_count": null,
   "metadata": {},
   "outputs": [],
   "source": [
    "roslaunch gopigo_slam gopigo3_slam_stl.launch"
   ]
  },
  {
   "source": [
    "We need to move the gopigo3 around the map either with keyboard or with wall_follower python program"
   ],
   "cell_type": "markdown",
   "metadata": {}
  },
  {
   "cell_type": "code",
   "execution_count": null,
   "metadata": {},
   "outputs": [],
   "source": [
    "rosrun key_teleop key_teleop.py /key_vel:=/cmd_vel\n",
    "or\n",
    "roslaunch wall_follower wall_follower.launch"
   ]
  },
  {
   "source": [
    "You have to open the rviz in PC for graphical interface"
   ],
   "cell_type": "markdown",
   "metadata": {}
  },
  {
   "cell_type": "code",
   "execution_count": null,
   "metadata": {},
   "outputs": [],
   "source": [
    "rviz"
   ]
  },
  {
   "source": [
    "choose the configuration file gmapping.rviz\n",
    "\n",
    "Now you can see the map generation process in rviz"
   ],
   "cell_type": "markdown",
   "metadata": {}
  },
  {
   "source": [
    "Once you have finish the map, you need to launch the map_saver program from map_server package:"
   ],
   "cell_type": "markdown",
   "metadata": {}
  },
  {
   "cell_type": "code",
   "execution_count": null,
   "metadata": {},
   "outputs": [],
   "source": [
    "rosrun map_server map_saver -f ~/Escriptori/ROS/gopigo_pc_ws/src/virtual_slam/maps/maze1"
   ]
  },
  {
   "source": [
    "You will get two files in the specified folder of your workspace: maze1.pgm and maze1.yaml.\n",
    "\n",
    "Provided with the map, we are ready to perform robot navigation with the GoPiGo3."
   ],
   "cell_type": "markdown",
   "metadata": {}
  },
  {
   "source": [
    "### 3. Robot Navigation\n",
    "\n",
    "Open Navigation launch file including the map location:"
   ],
   "cell_type": "markdown",
   "metadata": {}
  },
  {
   "cell_type": "code",
   "execution_count": null,
   "metadata": {},
   "outputs": [],
   "source": [
    "roslaunch virtual_slam gopigo3_navigation_stl.launch\n",
    "or\n",
    "roslaunch virtual_slam gopigo3rp_navigation_stl.launch"
   ]
  },
  {
   "source": [
    "You have to open the rviz in PC for graphical interface"
   ],
   "cell_type": "markdown",
   "metadata": {}
  },
  {
   "cell_type": "code",
   "execution_count": null,
   "metadata": {},
   "outputs": [],
   "source": [
    "rviz"
   ]
  },
  {
   "source": [
    "choose the configuration file navigation.rviz"
   ],
   "cell_type": "markdown",
   "metadata": {}
  },
  {
   "source": [
    "You need first to locate the robot in the initial position and choose the target destination"
   ],
   "cell_type": "markdown",
   "metadata": {}
  }
 ],
 "metadata": {
  "kernelspec": {
   "display_name": "Python 3",
   "language": "python",
   "name": "python3"
  },
  "language_info": {
   "codemirror_mode": {
    "name": "ipython",
    "version": 3
   },
   "file_extension": ".py",
   "mimetype": "text/x-python",
   "name": "python",
   "nbconvert_exporter": "python",
   "pygments_lexer": "ipython3",
   "version": "3.7.3"
  }
 },
 "nbformat": 4,
 "nbformat_minor": 2
}