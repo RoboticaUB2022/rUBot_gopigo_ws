{
 "metadata": {
  "language_info": {
   "codemirror_mode": {
    "name": "ipython",
    "version": 3
   },
   "file_extension": ".py",
   "mimetype": "text/x-python",
   "name": "python",
   "nbconvert_exporter": "python",
   "pygments_lexer": "ipython3",
   "version": 3
  },
  "orig_nbformat": 2
 },
 "nbformat": 4,
 "nbformat_minor": 2,
 "cells": [
  {
   "cell_type": "markdown",
   "source": [
    "## ROS OpenCV"
   ],
   "metadata": {}
  },
  {
   "cell_type": "markdown",
   "source": [
    "In real applications a robot has to take information of surrounding.\n",
    "\n",
    "A very useful method is from Vision.\n",
    "\n",
    "OpenCV is a worldwide used Open Source Computer Vision Library\n",
    "\n",
    "Image processing and computer vision are key disciplines for this objective."
   ],
   "metadata": {}
  },
  {
   "cell_type": "markdown",
   "source": [
    "### OpenCV install\n",
    "\n",
    "The normal installation of ROS Melodic includes opencv. You can verify the proper installation and version in a new terminal typing:"
   ],
   "metadata": {}
  },
  {
   "cell_type": "code",
   "execution_count": null,
   "source": [
    "python -c \"import cv2; print(cv2.__version__)\""
   ],
   "outputs": [],
   "metadata": {}
  },
  {
   "cell_type": "markdown",
   "source": [
    "The output will be the version installed (3.2.0)\n",
    "\n",
    "If you are in a python shell, type \"import cv2\" and if there is no error, all is OK. You can exit typing: exit()\n",
    "\n",
    "In the case you have not opencv installed follow the instructions below:"
   ],
   "metadata": {}
  },
  {
   "cell_type": "code",
   "execution_count": null,
   "source": [
    "sudo apt-get update\n",
    "sudo apt-get install ros-melodic-vision-opencv"
   ],
   "outputs": [],
   "metadata": {}
  },
  {
   "cell_type": "markdown",
   "source": [
    "Sometimes in Melodic has to use:"
   ],
   "metadata": {}
  },
  {
   "cell_type": "code",
   "execution_count": null,
   "source": [
    "sudo apt-get install python-opencv"
   ],
   "outputs": [],
   "metadata": {}
  },
  {
   "cell_type": "markdown",
   "source": [
    "In principle, this should work.\n",
    "\n",
    "In case you face a problem with imshow (as I faced a similar one), you may try the following solution (use pip3 if you use Python 3)"
   ],
   "metadata": {}
  },
  {
   "cell_type": "code",
   "execution_count": null,
   "source": [
    "sudo apt-get install libopencv-*\n",
    "pip install opencv-contrib-python"
   ],
   "outputs": [],
   "metadata": {}
  },
  {
   "cell_type": "markdown",
   "source": [
    "You will need to install numpy and matplotlib python libraries:"
   ],
   "metadata": {}
  },
  {
   "cell_type": "code",
   "execution_count": null,
   "source": [
    "sudo apt install python-pip\n",
    "pip install numpy\n",
    "pip install matplotlib"
   ],
   "outputs": [],
   "metadata": {}
  },
  {
   "cell_type": "markdown",
   "source": [
    "#### USB camera install\n",
    "\n",
    "To install a USB cam type"
   ],
   "metadata": {}
  },
  {
   "cell_type": "code",
   "execution_count": null,
   "source": [
    "sudo apt-get install ros-melodic-usb-cam"
   ],
   "outputs": [],
   "metadata": {}
  },
  {
   "cell_type": "markdown",
   "source": [
    "Be sure to have installed the \"image-view\" package"
   ],
   "metadata": {}
  },
  {
   "cell_type": "code",
   "execution_count": null,
   "source": [
    "sudo apt-get install ros-melodic-image-view"
   ],
   "outputs": [],
   "metadata": {}
  },
  {
   "cell_type": "markdown",
   "source": [
    "Install the camera in your Virtual machine:\n",
    "- From Virtual Box download webpage: https://www.virtualbox.org/wiki/Downloads\n",
    "- download the irtualBox 6.1.16 Oracle VM VirtualBox Extension Pack"
   ],
   "metadata": {}
  },
  {
   "cell_type": "markdown",
   "source": [
    "<img src=\"./Images/1_USB.png\">"
   ],
   "metadata": {}
  },
  {
   "cell_type": "markdown",
   "source": [
    "- From VirtualBox/preferences/extensions add a new extension and select the Extension Pack file previously downloaded"
   ],
   "metadata": {}
  },
  {
   "cell_type": "markdown",
   "source": [
    "<img src=\"./Images/1_USB1.png\">"
   ],
   "metadata": {}
  },
  {
   "cell_type": "markdown",
   "source": [
    "- close the VirtualBox and open it again\n",
    "- open the Virtual machine and select the webcam from top menu"
   ],
   "metadata": {}
  },
  {
   "cell_type": "markdown",
   "source": [
    "<img src=\"./Images/1_USB2.png\">"
   ],
   "metadata": {}
  },
  {
   "cell_type": "markdown",
   "source": [
    "### CvBridge: Bridging OpenCV and ROS\n",
    "\n",
    "The format of images in OpenCV and ROS are different. \n",
    "\n",
    "http://wiki.ros.org/cv_bridge/Tutorials/ConvertingBetweenROSImagesAndOpenCVImagesPython"
   ],
   "metadata": {}
  },
  {
   "cell_type": "markdown",
   "source": [
    "<img src=\"./Images/1_CvBridge.png\">"
   ],
   "metadata": {}
  },
  {
   "cell_type": "markdown",
   "source": [
    "#### Vision package"
   ],
   "metadata": {}
  },
  {
   "cell_type": "markdown",
   "source": [
    "We will create in our workspace a \"vision\" package where use OpenCV in ROS to perform Image processing.\n",
    "\n",
    "- In VS Code, open the rubot_opencv_ws workspace and first create a \"vision\" package with dependencies:"
   ],
   "metadata": {}
  },
  {
   "cell_type": "code",
   "execution_count": null,
   "source": [
    "catkin_create_pkg vision std_msgs sensor_msgs cv_bridge rospy"
   ],
   "outputs": [],
   "metadata": {}
  },
  {
   "cell_type": "markdown",
   "source": [
    "- compile the ws"
   ],
   "metadata": {}
  },
  {
   "cell_type": "code",
   "execution_count": null,
   "source": [
    "cd ~/rubot_gopigo_ws\n",
    "catkin_make"
   ],
   "outputs": [],
   "metadata": {}
  },
  {
   "cell_type": "markdown",
   "source": [
    "- verify the .bashrc file\n",
    "- add in src folder the python files for image processing"
   ],
   "metadata": {}
  },
  {
   "cell_type": "markdown",
   "source": [
    "The first python file we will add is the \"image_pub_sub.py\" file to read a ROS image message and convert it into OpenCV format"
   ],
   "metadata": {}
  },
  {
   "cell_type": "markdown",
   "source": [
    "In this file, a node is created that listens to a ROS image message topic, converts the images into an cv::Mat OpenCV format, draws a circle on it and displays the image using OpenCV. The image is then republished over ROS.\n",
    "\n",
    "This file can be adapted for the Image origin camera:\n",
    "- gopigo3 simulated cam\n",
    "- USB cam\n",
    "- gopigo3 raspberrypi cam"
   ],
   "metadata": {}
  },
  {
   "cell_type": "code",
   "execution_count": null,
   "source": [
    "#!/usr/bin/env python\n",
    "\n",
    "import rospy\n",
    "import cv2\n",
    "from std_msgs.msg import String\n",
    "from sensor_msgs.msg import Image\n",
    "from cv_bridge import CvBridge, CvBridgeError\n",
    "import sys\n",
    "\n",
    "bridge = CvBridge()\n",
    "\n",
    "def image_callback(ros_image):\n",
    "  print 'got an image'\n",
    "  global bridge\n",
    "  #convert ros_image into an opencv-compatible image\n",
    "  try:\n",
    "    cv_image = bridge.imgmsg_to_cv2(ros_image, \"bgr8\")\n",
    "  except CvBridgeError as e:\n",
    "      print(e)\n",
    "  #from now on, you can work exactly like with opencv\n",
    "  (rows,cols,channels) = cv_image.shape\n",
    "  if cols > 200 and rows > 200 :\n",
    "      cv2.circle(cv_image, (100,100),90, 255)\n",
    "  font = cv2.FONT_HERSHEY_SIMPLEX\n",
    "  cv2.putText(cv_image,'Webcam Activated with ROS & OpenCV!',(10,350), font, 1,(255,255,255),2,cv2.LINE_AA)\n",
    "  cv2.imshow(\"Image window\", cv_image)\n",
    "  cv2.waitKey(3)\n",
    "\n",
    "  \n",
    "def main(args):\n",
    "  rospy.init_node('image_converter', anonymous=True)\n",
    "  #for turtlebot3 waffle\n",
    "  #image_topic=\"/camera/rgb/image_raw/compressed\"\n",
    "  #for usb cam\n",
    "  #image_topic=\"/usb_cam/image_raw\"\n",
    "  image_sub = rospy.Subscriber(\"/camera/rgb/image_raw/compressed\",Image, image_callback)\n",
    "  try:\n",
    "    rospy.spin()\n",
    "  except KeyboardInterrupt:\n",
    "    print(\"Shutting down\")\n",
    "  cv2.destroyAllWindows()\n",
    "\n",
    "if __name__ == '__main__':\n",
    "    main(sys.argv)"
   ],
   "outputs": [],
   "metadata": {}
  },
  {
   "cell_type": "markdown",
   "source": [
    "We will test it in these 3 different environmnets:\n",
    "- gopigo3 simulated environment in gazebo\n",
    "- USB Cam device\n",
    "- gopigo3 real robot"
   ],
   "metadata": {}
  },
  {
   "cell_type": "markdown",
   "source": [
    "##### gopigo3 environment\n",
    "\n",
    "- In VS Code, clone the turtlebot3_simulations package in src folder of our workspace"
   ],
   "metadata": {}
  },
  {
   "cell_type": "code",
   "execution_count": null,
   "source": [
    "cd src\n",
    "git clone https://github.com/ROBOTIS-GIT/turtlebot3_simulations"
   ],
   "outputs": [],
   "metadata": {}
  },
  {
   "cell_type": "markdown",
   "source": [
    "- delete the .git folder inside the turtlebot3_simulations package if you want to syncronise this package in your repository\n",
    "- compile your workspace"
   ],
   "metadata": {}
  },
  {
   "cell_type": "markdown",
   "source": [
    "- add the \"tb3_image_pub_sub.py\" file in src folder of \"vision\" package. In this file we take the corresponding topic name of ROS image"
   ],
   "metadata": {}
  },
  {
   "cell_type": "code",
   "execution_count": null,
   "source": [
    "#!/usr/bin/env python\n",
    "\n",
    "import rospy\n",
    "import cv2\n",
    "from std_msgs.msg import String\n",
    "from sensor_msgs.msg import Image\n",
    "from cv_bridge import CvBridge, CvBridgeError\n",
    "import sys\n",
    "\n",
    "bridge = CvBridge()\n",
    "\n",
    "def image_callback(ros_image):\n",
    "  print 'got an image'\n",
    "  global bridge\n",
    "  #convert ros_image into an opencv-compatible image\n",
    "  try:\n",
    "    cv_image = bridge.imgmsg_to_cv2(ros_image, \"bgr8\")\n",
    "  except CvBridgeError as e:\n",
    "      print(e)\n",
    "  #from now on, you can work exactly like with opencv\n",
    "  (rows,cols,channels) = cv_image.shape\n",
    "  if cols > 200 and rows > 200 :\n",
    "      cv2.circle(cv_image, (100,100),90, 255)\n",
    "  font = cv2.FONT_HERSHEY_SIMPLEX\n",
    "  cv2.putText(cv_image,'Webcam Activated with ROS & OpenCV!',(10,350), font, 1,(255,255,255),2,cv2.LINE_AA)\n",
    "  cv2.imshow(\"Image window\", cv_image)\n",
    "  cv2.waitKey(3)\n",
    "\n",
    "  \n",
    "def main(args):\n",
    "  rospy.init_node('image_converter', anonymous=True)\n",
    "  #for turtlebot3 waffle\n",
    "  #image_topic=\"/camera/rgb/image_raw\"\n",
    "  #for usb cam\n",
    "  #image_topic=\"/usb_cam/image_raw\"\n",
    "  image_sub = rospy.Subscriber(\"/camera/rgb/image_raw\",Image, image_callback)\n",
    "  try:\n",
    "    rospy.spin()\n",
    "  except KeyboardInterrupt:\n",
    "    print(\"Shutting down\")\n",
    "  cv2.destroyAllWindows()\n",
    "\n",
    "if __name__ == '__main__':\n",
    "    main(sys.argv)"
   ],
   "outputs": [],
   "metadata": {}
  },
  {
   "cell_type": "markdown",
   "source": [
    "- spawn the turtle3 robot in a physical environment and publish the image of the simulated camera with a sensor_msgs/Image message type in /camera/rgb/image_raw topic."
   ],
   "metadata": {}
  },
  {
   "cell_type": "code",
   "execution_count": null,
   "source": [
    "roslaunch turtlebot3_gazebo turtlebot3_world.launch"
   ],
   "outputs": [],
   "metadata": {}
  },
  {
   "cell_type": "code",
   "execution_count": null,
   "source": [
    "rosrun vision tb3_image_pub_sub.py"
   ],
   "outputs": [],
   "metadata": {}
  },
  {
   "cell_type": "markdown",
   "source": [
    "<img src=\"./Images/1_tb3cam.png\">"
   ],
   "metadata": {}
  },
  {
   "cell_type": "markdown",
   "source": [
    "#### USB cam device"
   ],
   "metadata": {}
  },
  {
   "cell_type": "markdown",
   "source": [
    "- select in \"Devices\" top menu the USB camera\n",
    "- add the \"USBcam_image_pub_sub.py\" file in src folder of \"vision\" package. In this file we take the corresponding topic name of ROS image"
   ],
   "metadata": {}
  },
  {
   "cell_type": "code",
   "execution_count": null,
   "source": [
    "roscore"
   ],
   "outputs": [],
   "metadata": {}
  },
  {
   "cell_type": "markdown",
   "source": [
    "To publish the image uses the \"usb_cam\" package already installed: http://wiki.ros.org/usb_cam"
   ],
   "metadata": {}
  },
  {
   "cell_type": "code",
   "execution_count": null,
   "source": [
    "rosrun usb_cam usb_cam_node _pixel_format:=yuyv"
   ],
   "outputs": [],
   "metadata": {}
  },
  {
   "cell_type": "markdown",
   "source": [
    "- To verify if the USB cam is working, use \"image_view\" package: http://wiki.ros.org/image_view"
   ],
   "metadata": {}
  },
  {
   "cell_type": "code",
   "execution_count": null,
   "source": [
    "rosrun image_view image_view image:=/usb_cam/image_raw _image_transport:=raw"
   ],
   "outputs": [],
   "metadata": {}
  },
  {
   "cell_type": "markdown",
   "source": [
    "<img src=\"./Images/1_USB3.png\">"
   ],
   "metadata": {}
  },
  {
   "cell_type": "markdown",
   "source": [
    "- You can run our python program"
   ],
   "metadata": {}
  },
  {
   "cell_type": "code",
   "execution_count": null,
   "source": [
    "cd ~/rubot_opencv_ws\n",
    "rosrun vision USBcam_image_pub_sub.py "
   ],
   "outputs": [],
   "metadata": {}
  },
  {
   "cell_type": "markdown",
   "source": [
    "<img src=\"./Images/1_USB4.png\">"
   ],
   "metadata": {}
  },
  {
   "cell_type": "markdown",
   "source": [
    "#### gopigo3 robot\n",
    "\n",
    "In gopigo3_rbpi_ws you have all the packages needed for OpenCV and to activate the RBPi Camera.\n",
    "\n",
    "Follow the instructions:\n",
    "\n",
    "- In VS Code, open the PC work space \"rubot_opencv_ws\"\n",
    "- connect remotelly to the RBPi work space \"workspace/ros/session2\"\n",
    "- make the RBPi to be the master and verify the last lines of .bashrc file:\n",
    "\n"
   ],
   "metadata": {}
  },
  {
   "cell_type": "code",
   "execution_count": null,
   "source": [
    "source /opt/ros/melodic/setup.bash\n",
    "source ~/workspace/ros/session2/devel/setup.sh\n",
    "export ROS_IP=192.168.4.1\n",
    "export ROS_MASTER_URI=http://192.168.4.1:11311"
   ],
   "outputs": [],
   "metadata": {}
  },
  {
   "cell_type": "markdown",
   "source": [
    "- run a launch file to open raspicam "
   ],
   "metadata": {}
  },
  {
   "cell_type": "code",
   "execution_count": null,
   "source": [
    "roslaunch raspicam_node camerav2_1280x960_10fps.launch enable_raw:=true camera_frame_id:=\"laser_frame\""
   ],
   "outputs": [],
   "metadata": {}
  },
  {
   "cell_type": "markdown",
   "source": [
    "- in PC workspace verify the last lines in .bashrc file"
   ],
   "metadata": {}
  },
  {
   "cell_type": "code",
   "execution_count": null,
   "source": [
    "source /opt/ros/melodic/setup.bash\n",
    "source ~/rubot_opencv_ws/devel/setup.bash\n",
    "export ROS_IP=192.168.4.5\n",
    "export ROS_MASTER_URI=http://192.168.4.1:11311\n"
   ],
   "outputs": [],
   "metadata": {}
  },
  {
   "cell_type": "markdown",
   "source": [
    "- verify that the topic name where RBPi cam is publishing is: /raspicam_node/image\n",
    "- generate the \"RBPcam_image_pub_sub.py\" python file accordingly\n",
    "- execute the python file"
   ],
   "metadata": {}
  },
  {
   "cell_type": "code",
   "execution_count": null,
   "source": [
    "cd ~/rubot_opencv_ws\n",
    "rosrun vision RBPcam_image_pub_sub.py"
   ],
   "outputs": [],
   "metadata": {}
  },
  {
   "cell_type": "markdown",
   "source": [
    "<img src=\"./Images/1_RBPcam.png\">"
   ],
   "metadata": {}
  }
 ]
}