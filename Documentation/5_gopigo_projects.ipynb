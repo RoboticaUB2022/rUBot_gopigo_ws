{
 "cells": [
  {
   "cell_type": "markdown",
   "metadata": {},
   "source": [
    "# gopigo3 challenging projects\n",
    "\n",
    "The projects proposed will be based on:\n",
    "1. Image processing\n",
    "References:\n",
    "- https://learn.turtlebot.com/\n",
    "- https://learn.turtlebot.com/2015/02/04/1/\n",
    "- https://learn.turtlebot.com/2015/02/04/2/\n",
    "- http://wiki.ros.org/Camera%2BDynamixelRobotSample/CameraPictureServer\n",
    "- https://industrial-training-master.readthedocs.io/en/melodic/_source/session5/OpenCV-in-Python.html"
   ]
  },
  {
   "cell_type": "markdown",
   "metadata": {},
   "source": [
    "## 1. Image processing\n",
    "https://learn.turtlebot.com/2015/02/04/2/\n"
   ]
  },
  {
   "cell_type": "raw",
   "metadata": {},
   "source": [
    "roslaunch rubot_control rubot_move1.launch \n",
    "rostopic list\n",
    "rosrun image_view ige_view image:=/gopigo/camera1/image_raw  _filename_format:=/media/sf_github_manelpuig/rUBot_gopigo_ws/Documentation/photos/phto01.jpg"
   ]
  },
  {
   "cell_type": "markdown",
   "metadata": {},
   "source": [
    "mpuig@mpuig-vb:/media/sf_github_manelpuig/rUBot_gopigo_ws$ rosrun image_view image_view image:=/gopigo/camera1/image_raw  _filename_format:=\"/media/sf_github_manelpuig/rUBot_gopigo_ws/Documentation/photos/phto01.jpg\"\n",
    "[ INFO] [1630829374.347294369]: Initializing nodelet with 8 worker threads.\n",
    "[ INFO] [1630829374.479622985]: Using transport \"raw\"\n",
    "terminate called after throwing an instance of 'boost::exception_detail::clone_impl<boost::exception_detail::error_info_injector<boost::io::too_many_args> >'\n",
    "  what():  boost::too_many_args: format-string referred to fewer arguments than were passed\n",
    "Avortat (s'ha bolcat la memòria)\n"
   ]
  }
 ],
 "metadata": {
  "kernelspec": {
   "display_name": "Python 3.6.9 64-bit",
   "name": "python369jvsc74a57bd031f2aee4e71d21fbe5cf8b01ff0e069b9275f58929596ceb00d14d90e3e16cd6"
  },
  "language_info": {
   "name": "python",
   "version": ""
  },
  "metadata": {
   "interpreter": {
    "hash": "31f2aee4e71d21fbe5cf8b01ff0e069b9275f58929596ceb00d14d90e3e16cd6"
   }
  }
 },
 "nbformat": 4,
 "nbformat_minor": 2
}