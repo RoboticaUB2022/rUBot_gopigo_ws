{
 "cells": [
  {
   "cell_type": "markdown",
   "metadata": {},
   "source": [
    "# gopigo3 challenging projects\n",
    "\n",
    "The projects proposed will be based on:\n",
    "1. Image processing\n",
    "References:\n",
    "- https://learn.turtlebot.com/\n",
    "- https://learn.turtlebot.com/2015/02/04/1/\n",
    "- https://learn.turtlebot.com/2015/02/04/2/\n",
    "- https://learn.turtlebot.com/2015/02/04/3/\n",
    "- https://github.com/markwsilliman/turtlebot\n",
    "- http://wiki.ros.org/Camera%2BDynamixelRobotSample/CameraPictureServer\n",
    "- https://industrial-training-master.readthedocs.io/en/melodic/_source/session5/OpenCV-in-Python.html"
   ]
  },
  {
   "cell_type": "markdown",
   "metadata": {},
   "source": [
    "## 1. Take photo using Code:\n",
    "\n",
    "https://learn.turtlebot.com/2015/02/04/3/\n",
    "\n",
    "Modify the \"take_photo.py\" python file with:\n",
    "- the proper topic name /raspicam_node/image\n",
    "- the proper photo folder path: '/home/pi/Desktop/gopigo3_rbpi3_ws/src/gopigo_vision/photos"
   ]
  },
  {
   "cell_type": "code",
   "execution_count": null,
   "metadata": {},
   "outputs": [],
   "source": [
    "roslaunch gopigo_control gopigo3rp_bringup.launch \n",
    "rostopic list\n",
    "rosrun gopigo_vision take_photo.py"
   ]
  },
  {
   "cell_type": "markdown",
   "metadata": {},
   "source": [
    "## 2. Go to specific point in the map:\n",
    "\n",
    "In this lesson we will learn how to send robot a command: “go to a specific position at map”.\n",
    "\n",
    "We will work with the files from: https://github.com/markwsilliman/turtlebot\n",
    "\n",
    "Follow the instructions in: https://learn.turtlebot.com/2015/02/03/11/\n",
    "\n"
   ]
  },
  {
   "cell_type": "markdown",
   "metadata": {},
   "source": [
    "Launch Gazebo:\n",
    "\n",
    "    roslaunch virtual_slam gopigo3_world.launch\n",
    "\n",
    "Run the navigation demo:\n",
    "\n",
    "    roslaunch virtual_slam gopigo3_navigation.launch"
   ]
  },
  {
   "cell_type": "markdown",
   "metadata": {},
   "source": [
    "Choose a point: \n",
    "\n",
    "    - select Publish point\n",
    "    - open \"go_to_specific_point_on_map.py\"\n",
    "    - in line 78 specify the target point:\n",
    "        - # Customize the following values so they are appropriate for your location\n",
    "        - position = {'x': 1, 'y' : 0}"
   ]
  },
  {
   "cell_type": "markdown",
   "metadata": {},
   "source": [
    "Launch the \"go_to_specific_point_on_map.py\" program:\n",
    "\n",
    "    rosrun virtual_slam go_to_specific_point_on_map.py "
   ]
  },
  {
   "cell_type": "markdown",
   "metadata": {},
   "source": [
    "![Getting Started](./Images/6_go_to_point.png)"
   ]
  },
  {
   "cell_type": "markdown",
   "metadata": {},
   "source": [
    "Carefull!!:\n",
    "- if the python program is not working, be sure to make \"source devel/setup.bash\""
   ]
  },
  {
   "cell_type": "markdown",
   "metadata": {},
   "source": [
    "## 3. Go to specific point in the map and take a photo:\n",
    "\n",
    "We will combine our skills from two previous objectives: “Going to a Specific Location on Your Map Using Code” and “Taking a Photo Using Code”. The gopigo3 will go from the start to each goal from the list and take a photo in every position.\n",
    "\n",
    "We will work with the files from: https://github.com/markwsilliman/turtlebot\n",
    "\n",
    "Follow the instructions in: https://learn.turtlebot.com/2015/02/04/5/\n",
    "\n",
    "We use the code go_to_specific_point_on_map.py and take_photo.py from previous exemples. \n",
    "\n",
    "Follow_the_route.py reads input data from route.yaml file. The YAML file has three lines. It means that there are three goals. Look on the first line:\n",
    "\n",
    "- {filename: 'dumpster.png', position: { x: 0.355, y: -0.2}, quaternion: {r1: 0, r2: 0, r3: -0.628, r4: 0.778}}\n",
    "\n",
    "The dumpster.png is the image title for picture. The position and quaternion set the goal: the place where TurtleBot takes a photo. \n"
   ]
  },
  {
   "cell_type": "markdown",
   "metadata": {},
   "source": [
    "Launch Gazebo:\n",
    "\n",
    "    roslaunch virtual_slam gopigo3_world.launch\n",
    "\n",
    "Run the navigation demo:\n",
    "\n",
    "    roslaunch virtual_slam gopigo3_navigation.launch\n",
    "\n",
    "Specify a yaml file with the points to follow and take photo:"
   ]
  },
  {
   "cell_type": "markdown",
   "metadata": {},
   "source": [
    "- {filename: 'dumpster.png', position: { x: 0.355, y: -0.2}, quaternion: {r1: 0, r2: 0, r3: -0.628, r4: 0.778}}\n",
    "- {filename: 'cube_20k.png', position: { x: 2.843, y: -1.743}, quaternion: {r1: 0, r2: 0, r3: 0.936, r4: 0.353}}\n",
    "- {filename: 'bookshelf.png', position: { x: 1.401, y: 2.913}, quaternion: {r1: 0, r2: 0, r3: 0.904, r4: -0.427}}"
   ]
  },
  {
   "cell_type": "markdown",
   "metadata": {},
   "source": [
    "Launch the \"follow_the_route.py\" program:\n",
    "\n",
    "    rosrun virtual_slam follow_the_route.py "
   ]
  },
  {
   "cell_type": "markdown",
   "metadata": {},
   "source": [
    "![Getting Started](./Images/6_follow_route.png)"
   ]
  },
  {
   "cell_type": "markdown",
   "metadata": {},
   "source": [
    "Improvement!:\n",
    "- a modified \"follow_the_route2.py\" and \"route2.yaml\" is made in order to insert the target orientation in RPY degrees"
   ]
  }
 ],
 "metadata": {
  "interpreter": {
   "hash": "767d51c1340bd893661ea55ea3124f6de3c7a262a8b4abca0554b478b1e2ff90"
  },
  "kernelspec": {
   "display_name": "Python 2.7.17 64-bit",
   "name": "python3"
  },
  "language_info": {
   "name": "python",
   "version": "2.7.17"
  },
  "metadata": {
   "interpreter": {
    "hash": "31f2aee4e71d21fbe5cf8b01ff0e069b9275f58929596ceb00d14d90e3e16cd6"
   }
  }
 },
 "nbformat": 4,
 "nbformat_minor": 2
}
