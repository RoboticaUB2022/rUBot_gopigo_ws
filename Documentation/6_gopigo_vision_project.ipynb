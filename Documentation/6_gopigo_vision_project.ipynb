{
 "cells": [
  {
   "cell_type": "markdown",
   "source": [
    "# gopigo3 challenging projects\n",
    "\n",
    "The projects proposed will be based on:\n",
    "1. Image processing\n",
    "References:\n",
    "- https://learn.turtlebot.com/\n",
    "- https://learn.turtlebot.com/2015/02/04/1/\n",
    "- https://learn.turtlebot.com/2015/02/04/2/\n",
    "- https://learn.turtlebot.com/2015/02/04/3/\n",
    "- https://github.com/markwsilliman/turtlebot\n",
    "- http://wiki.ros.org/Camera%2BDynamixelRobotSample/CameraPictureServer\n",
    "- https://industrial-training-master.readthedocs.io/en/melodic/_source/session5/OpenCV-in-Python.html"
   ],
   "metadata": {}
  },
  {
   "cell_type": "markdown",
   "source": [
    "## 1. Take photo using Code:\n",
    "\n",
    "https://learn.turtlebot.com/2015/02/04/3/\n",
    "\n",
    "Modify the \"take_photo.py\" python file with:\n",
    "- the proper topic name /gopigo/camera1/image_raw\n",
    "- the proper photo folder path: /media/sf_github_manelpuig/rUBot_gopigo_ws/Documentation/photos/photo1.jpg"
   ],
   "metadata": {}
  },
  {
   "cell_type": "raw",
   "source": [
    "roslaunch rubot_control rubot_lidar_test.launch \n",
    "rostopic list\n",
    "rosrun vision take_photo.py"
   ],
   "metadata": {}
  },
  {
   "cell_type": "markdown",
   "source": [
    "## 2. Follow the route and take photo:\n",
    "\n",
    "https://learn.turtlebot.com/2015/02/04/5/"
   ],
   "metadata": {}
  }
 ],
 "metadata": {
  "kernelspec": {
   "display_name": "Python 3.6.9 64-bit",
   "name": "python369jvsc74a57bd031f2aee4e71d21fbe5cf8b01ff0e069b9275f58929596ceb00d14d90e3e16cd6"
  },
  "language_info": {
   "name": "python",
   "version": ""
  },
  "metadata": {
   "interpreter": {
    "hash": "31f2aee4e71d21fbe5cf8b01ff0e069b9275f58929596ceb00d14d90e3e16cd6"
   }
  }
 },
 "nbformat": 4,
 "nbformat_minor": 2
}