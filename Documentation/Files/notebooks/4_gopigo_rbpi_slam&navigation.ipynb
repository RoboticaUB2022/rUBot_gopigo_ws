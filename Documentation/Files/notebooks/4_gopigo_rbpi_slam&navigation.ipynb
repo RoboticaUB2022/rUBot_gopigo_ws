{
 "cells": [
  {
   "cell_type": "markdown",
   "metadata": {},
   "source": [
    "# SLAM & Navigation gopigo3 in RaspberryPi"
   ]
  },
  {
   "cell_type": "markdown",
   "metadata": {},
   "source": [
    "Autonomous navigation refers that the robot is able to move autonomously around the environment avoiding any obstacle.\n",
    "\n",
    "In a hospital, a delivery robot carries samples or food from one room to another. \n",
    "\n",
    "The main objectives are:\n",
    "- use SLAM (Simultaneous Localization and Mapping) techniques to generate and store a map of the hospital flor\n",
    "- use Navigation techniques to find an optimal trajectory to reach a speciffic hospital target position\n",
    "\n",
    "let's see how to fulfill these objectives"
   ]
  },
  {
   "cell_type": "markdown",
   "metadata": {},
   "source": [
    "![Getting Starter](./Images/1_gopigo3_UB.png)"
   ]
  },
  {
   "cell_type": "markdown",
   "metadata": {},
   "source": [
    "## Create a slam&navigation package\n",
    "\n",
    "To perform SLAM & Navigation, we need to create a specific \"gopigo_slam\" package. You can take this package as a frame for other slam packages related to other robot models. Take care about the URDF model path and some yaml parameters.\n",
    "\n",
    "This package is already created and you will use it to:\n",
    "- generate the map of your maze\n",
    "- navigate to speciffic target points within the map\n"
   ]
  },
  {
   "cell_type": "markdown",
   "metadata": {},
   "source": [
    "### 1. Generate the map\n",
    "\n",
    "To generate the map we need first to launch:\n",
    "- gopigo3_node\n",
    "- ydlidar or rplidar\n",
    "- raspicam\n",
    "\n",
    "Open diferent terminals to launch the diferent nodes:"
   ]
  },
  {
   "cell_type": "code",
   "execution_count": null,
   "metadata": {},
   "outputs": [],
   "source": [
    "roslaunch gopigo3_node gopigo3.launch\n",
    "roslaunch ydlidar lidar.launch (or roslaunch rplidar_ros rplidar.launch)\n",
    "roslaunch raspicam_node camerav2_1280x960_10fps.launch enable_raw:=true camera_frame_id:=\"base_scan\""
   ]
  },
  {
   "cell_type": "markdown",
   "metadata": {},
   "source": [
    "You can also launch a bringup launch file to launch gopigo3 and LIDAR (do not launch the raspicam to speed up the gmapping process).\n",
    "\n",
    "Type:\n",
    "- roslaunch gopigo_control gopigo3yd_bringup.launch (or the rp version)\n",
    "\n",
    "we can see now the nodes that are running in our ROS workspace:"
   ]
  },
  {
   "cell_type": "markdown",
   "metadata": {},
   "source": [
    "<img src=\"./Images/2_nodes_cam.png\">"
   ]
  },
  {
   "cell_type": "markdown",
   "metadata": {},
   "source": [
    "Now we need to launch the slam_gmapping node.\n",
    "\n",
    "If we use new values of \"gmapping.launch\" parameters:\n",
    "- delta: 0.01m \n",
    "- map_update_interval: 1s\n",
    "\n",
    "And from the gopigo3.urdf model in differentialdrive pluggin:\n",
    "- Acceleration: 0.5\n",
    "- Torque: 1\n",
    "\n",
    "we obtain a more accurate movement and map\n",
    "\n",
    "Open another terminal and type:"
   ]
  },
  {
   "cell_type": "code",
   "execution_count": null,
   "metadata": {},
   "outputs": [],
   "source": [
    "roslaunch gopigo_control rubotYD_wall_follower_gm.launch\n",
    "roslaunch gopigo_slam gopigo3yd_slam.launch"
   ]
  },
  {
   "cell_type": "markdown",
   "metadata": {},
   "source": [
    "We need to move the gopigo3 around the map either with keyboard or with wall_follower python program"
   ]
  },
  {
   "cell_type": "code",
   "execution_count": null,
   "metadata": {},
   "outputs": [],
   "source": [
    "rosrun key_teleop key_teleop.py /key_vel:=/cmd_vel\n",
    "or\n",
    "roslaunch wall_follower wall_follower.launch"
   ]
  },
  {
   "cell_type": "markdown",
   "metadata": {},
   "source": [
    "Once you have finish the map, you need to launch the map_saver program from map_server package:"
   ]
  },
  {
   "cell_type": "code",
   "execution_count": null,
   "metadata": {},
   "outputs": [],
   "source": [
    "rosrun map_server map_saver -f hospital1map"
   ]
  },
  {
   "cell_type": "markdown",
   "metadata": {},
   "source": [
    "You will get two files in the specified folder of your workspace: maze.pgm and maze.yaml.\n",
    "\n",
    "Provided with the map, we are ready to perform robot navigation with the GoPiGo3."
   ]
  },
  {
   "cell_type": "markdown",
   "metadata": {},
   "source": [
    "### 2. navigate to speciffic target points within the map\n",
    "\n",
    "To navigate within the map we need first to launch:\n",
    "- gopigo3_node\n",
    "- ydlidar or rplidar\n",
    "- raspicam\n",
    "\n",
    "Open diferent terminals to launch the diferent nodes:"
   ]
  },
  {
   "cell_type": "markdown",
   "metadata": {},
   "source": [
    "dwa\n",
    "max vel\n",
    "controller freq\n",
    "\n",
    "global local cost\n",
    "update 1hz\n",
    "\n",
    "costma common\n",
    "inflation 0,5\n",
    "cost scaling 3\n",
    "\n",
    "move base \n",
    "controller freq 1hz\n"
   ]
  },
  {
   "cell_type": "code",
   "execution_count": null,
   "metadata": {},
   "outputs": [],
   "source": [
    "roslaunch gopigo3_node gopigo3.launch\n",
    "roslaunch ydlidar lidar.launch (or roslaunch rplidar_ros rplidar.launch)\n",
    "roslaunch raspicam_node camerav2_1280x960_10fps.launch enable_raw:=true camera_frame_id:=\"base_scan\""
   ]
  },
  {
   "cell_type": "markdown",
   "metadata": {},
   "source": [
    "Open Navigation launch file including the map location:"
   ]
  },
  {
   "cell_type": "code",
   "execution_count": null,
   "metadata": {},
   "outputs": [],
   "source": [
    "roslaunch gopigo_slam gopigo3_navigation_maze.launch\n",
    "or\n",
    "roslaunch gopigo_slam gopigo3rp_navigation_maze.launch"
   ]
  },
  {
   "cell_type": "markdown",
   "metadata": {},
   "source": [
    "You need first to locate the robot in the initial position and choose the target destination.\n",
    "\n",
    "You can see the optimized trajectory. The gopigo starts to follow this trajectory and if an obstacle appears, the robot avoid this obstacle and find in realtime the new optimal trajectory to the target point. "
   ]
  }
 ],
 "metadata": {
  "kernelspec": {
   "display_name": "Python 3",
   "language": "python",
   "name": "python3"
  },
  "language_info": {
   "codemirror_mode": {
    "name": "ipython",
    "version": 3
   },
   "file_extension": ".py",
   "mimetype": "text/x-python",
   "name": "python",
   "nbconvert_exporter": "python",
   "pygments_lexer": "ipython3",
   "version": "3.7.3"
  }
 },
 "nbformat": 4,
 "nbformat_minor": 2
}
