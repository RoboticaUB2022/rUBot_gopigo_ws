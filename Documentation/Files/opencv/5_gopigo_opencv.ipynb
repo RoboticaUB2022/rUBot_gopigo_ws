{
 "cells": [
  {
   "cell_type": "markdown",
   "metadata": {},
   "source": [
    "## ROS OpenCV"
   ]
  },
  {
   "cell_type": "markdown",
   "metadata": {},
   "source": [
    "In real applications a robot has to take information of surrounding.\n",
    "\n",
    "A very useful method is from Vision.\n",
    "\n",
    "OpenCV is a worldwide used Open Source Computer Vision Library\n",
    "\n",
    "Image processing and computer vision are key disciplines for this objective."
   ]
  },
  {
   "cell_type": "markdown",
   "metadata": {},
   "source": [
    "### OpenCV install\n",
    "\n",
    "The normal installation of ROS Melodic includes opencv. You can verify the proper installation and version in a new terminal typing:"
   ]
  },
  {
   "cell_type": "code",
   "execution_count": null,
   "metadata": {},
   "outputs": [],
   "source": [
    "python -c \"import cv2; print(cv2.__version__)\""
   ]
  },
  {
   "cell_type": "markdown",
   "metadata": {},
   "source": [
    "The output will be the version installed (3.2.0)\n",
    "\n",
    "If you are in a python shell, type \"import cv2\" and if there is no error, all is OK. You can exit typing: exit()\n",
    "\n",
    "In the case you have not opencv installed follow the instructions below:"
   ]
  },
  {
   "cell_type": "code",
   "execution_count": null,
   "metadata": {},
   "outputs": [],
   "source": [
    "sudo apt-get update\n",
    "sudo apt-get install ros-melodic-vision-opencv"
   ]
  },
  {
   "cell_type": "markdown",
   "metadata": {},
   "source": [
    "Sometimes in Melodic has to use:"
   ]
  },
  {
   "cell_type": "code",
   "execution_count": null,
   "metadata": {},
   "outputs": [],
   "source": [
    "sudo apt-get install python-opencv"
   ]
  },
  {
   "cell_type": "markdown",
   "metadata": {},
   "source": [
    "In principle, this should work.\n",
    "\n",
    "In case you face a problem with imshow (as I faced a similar one), you may try the following solution (use pip3 if you use Python 3)"
   ]
  },
  {
   "cell_type": "code",
   "execution_count": null,
   "metadata": {},
   "outputs": [],
   "source": [
    "sudo apt-get install libopencv-*\n",
    "pip install opencv-contrib-python"
   ]
  },
  {
   "cell_type": "markdown",
   "metadata": {},
   "source": [
    "You will need to install numpy and matplotlib python libraries:"
   ]
  },
  {
   "cell_type": "code",
   "execution_count": null,
   "metadata": {},
   "outputs": [],
   "source": [
    "sudo apt install python-pip\n",
    "pip install numpy\n",
    "pip install matplotlib"
   ]
  },
  {
   "cell_type": "markdown",
   "metadata": {},
   "source": [
    "#### USB camera install\n",
    "\n",
    "To install a USB cam type"
   ]
  },
  {
   "cell_type": "code",
   "execution_count": null,
   "metadata": {},
   "outputs": [],
   "source": [
    "sudo apt-get install ros-melodic-usb-cam"
   ]
  },
  {
   "cell_type": "markdown",
   "metadata": {},
   "source": [
    "Be sure to have installed the \"image-view\" package"
   ]
  },
  {
   "cell_type": "code",
   "execution_count": null,
   "metadata": {},
   "outputs": [],
   "source": [
    "sudo apt-get install ros-melodic-image-view"
   ]
  },
  {
   "cell_type": "markdown",
   "metadata": {},
   "source": [
    "Install the camera in your Virtual machine:\n",
    "- From Virtual Box download webpage: https://www.virtualbox.org/wiki/Downloads\n",
    "- download the irtualBox 6.1.16 Oracle VM VirtualBox Extension Pack"
   ]
  },
  {
   "cell_type": "markdown",
   "metadata": {},
   "source": [
    "<img src=\"./Images/1_USB.png\">"
   ]
  },
  {
   "cell_type": "markdown",
   "metadata": {},
   "source": [
    "- From VirtualBox/preferences/extensions add a new extension and select the Extension Pack file previously downloaded"
   ]
  },
  {
   "cell_type": "markdown",
   "metadata": {},
   "source": [
    "<img src=\"./Images/1_USB1.png\">"
   ]
  },
  {
   "cell_type": "markdown",
   "metadata": {},
   "source": [
    "- close the VirtualBox and open it again\n",
    "- open the Virtual machine and select the webcam from top menu"
   ]
  },
  {
   "cell_type": "markdown",
   "metadata": {},
   "source": [
    "<img src=\"./Images/1_USB2.png\">"
   ]
  },
  {
   "cell_type": "markdown",
   "metadata": {},
   "source": [
    "### CvBridge: Bridging OpenCV and ROS\n",
    "\n",
    "The format of images in OpenCV and ROS are different. \n",
    "\n",
    "http://wiki.ros.org/cv_bridge/Tutorials/ConvertingBetweenROSImagesAndOpenCVImagesPython"
   ]
  },
  {
   "cell_type": "markdown",
   "metadata": {},
   "source": [
    "<img src=\"./Images/1_CvBridge.png\">"
   ]
  },
  {
   "cell_type": "markdown",
   "metadata": {},
   "source": [
    "#### Vision package"
   ]
  },
  {
   "cell_type": "markdown",
   "metadata": {},
   "source": [
    "We will create in our workspace a \"vision\" package where use OpenCV in ROS to perform Image processing.\n",
    "\n",
    "- In VS Code, open the rubot_opencv_ws workspace and first create a \"vision\" package with dependencies:"
   ]
  },
  {
   "cell_type": "code",
   "execution_count": null,
   "metadata": {},
   "outputs": [],
   "source": [
    "catkin_create_pkg vision std_msgs sensor_msgs cv_bridge rospy"
   ]
  },
  {
   "cell_type": "markdown",
   "metadata": {},
   "source": [
    "- compile the ws"
   ]
  },
  {
   "cell_type": "code",
   "execution_count": null,
   "metadata": {},
   "outputs": [],
   "source": [
    "cd ~/rubot_gopigo_ws\n",
    "catkin_make"
   ]
  },
  {
   "cell_type": "markdown",
   "metadata": {},
   "source": [
    "- verify the .bashrc file\n",
    "- add in src folder the python files for image processing"
   ]
  },
  {
   "cell_type": "markdown",
   "metadata": {},
   "source": [
    "The first python file we will add is the \"image_pub_sub.py\" file to read a ROS image message and convert it into OpenCV format"
   ]
  },
  {
   "cell_type": "markdown",
   "metadata": {},
   "source": [
    "In this file, a node is created that listens to a ROS image message topic, converts the images into an cv::Mat OpenCV format, draws a circle on it and displays the image using OpenCV. The image is then republished over ROS.\n",
    "\n",
    "This file can be adapted for the Image origin camera:\n",
    "- gopigo3 simulated cam\n",
    "- USB cam\n",
    "- gopigo3 raspberrypi cam"
   ]
  },
  {
   "cell_type": "code",
   "execution_count": null,
   "metadata": {},
   "outputs": [],
   "source": [
    "#!/usr/bin/env python\n",
    "\n",
    "import rospy\n",
    "import cv2\n",
    "from std_msgs.msg import String\n",
    "from sensor_msgs.msg import Image\n",
    "from cv_bridge import CvBridge, CvBridgeError\n",
    "import sys\n",
    "\n",
    "bridge = CvBridge()\n",
    "\n",
    "def image_callback(ros_image):\n",
    "  print 'got an image'\n",
    "  global bridge\n",
    "  #convert ros_image into an opencv-compatible image\n",
    "  try:\n",
    "    cv_image = bridge.imgmsg_to_cv2(ros_image, \"bgr8\")\n",
    "  except CvBridgeError as e:\n",
    "      print(e)\n",
    "  #from now on, you can work exactly like with opencv\n",
    "  (rows,cols,channels) = cv_image.shape\n",
    "  if cols > 200 and rows > 200 :\n",
    "      cv2.circle(cv_image, (100,100),90, 255)\n",
    "  font = cv2.FONT_HERSHEY_SIMPLEX\n",
    "  cv2.putText(cv_image,'Webcam Activated with ROS & OpenCV!',(10,350), font, 1,(255,255,255),2,cv2.LINE_AA)\n",
    "  cv2.imshow(\"Image window\", cv_image)\n",
    "  cv2.waitKey(3)\n",
    "\n",
    "  \n",
    "def main(args):\n",
    "  rospy.init_node('image_converter', anonymous=True)\n",
    "  #for turtlebot3 waffle\n",
    "  #image_topic=\"/camera/rgb/image_raw/compressed\"\n",
    "  #for usb cam\n",
    "  #image_topic=\"/usb_cam/image_raw\"\n",
    "  image_sub = rospy.Subscriber(\"/camera/rgb/image_raw/compressed\",Image, image_callback)\n",
    "  try:\n",
    "    rospy.spin()\n",
    "  except KeyboardInterrupt:\n",
    "    print(\"Shutting down\")\n",
    "  cv2.destroyAllWindows()\n",
    "\n",
    "if __name__ == '__main__':\n",
    "    main(sys.argv)"
   ]
  },
  {
   "cell_type": "markdown",
   "metadata": {},
   "source": [
    "We will test it in these 3 different environmnets:\n",
    "- gopigo3 simulated environment in gazebo\n",
    "- USB Cam device\n",
    "- gopigo3 real robot"
   ]
  },
  {
   "cell_type": "markdown",
   "metadata": {},
   "source": [
    "##### gopigo3 environment\n",
    "\n",
    "- In VS Code, clone the turtlebot3_simulations package in src folder of our workspace"
   ]
  },
  {
   "cell_type": "code",
   "execution_count": null,
   "metadata": {},
   "outputs": [],
   "source": [
    "cd src\n",
    "git clone https://github.com/ROBOTIS-GIT/turtlebot3_simulations"
   ]
  },
  {
   "cell_type": "markdown",
   "metadata": {},
   "source": [
    "- delete the .git folder inside the turtlebot3_simulations package if you want to syncronise this package in your repository\n",
    "- compile your workspace"
   ]
  },
  {
   "cell_type": "markdown",
   "metadata": {},
   "source": [
    "- add the \"tb3_image_pub_sub.py\" file in src folder of \"vision\" package. In this file we take the corresponding topic name of ROS image"
   ]
  },
  {
   "cell_type": "code",
   "execution_count": null,
   "metadata": {},
   "outputs": [],
   "source": [
    "#!/usr/bin/env python\n",
    "\n",
    "import rospy\n",
    "import cv2\n",
    "from std_msgs.msg import String\n",
    "from sensor_msgs.msg import Image\n",
    "from cv_bridge import CvBridge, CvBridgeError\n",
    "import sys\n",
    "\n",
    "bridge = CvBridge()\n",
    "\n",
    "def image_callback(ros_image):\n",
    "  print 'got an image'\n",
    "  global bridge\n",
    "  #convert ros_image into an opencv-compatible image\n",
    "  try:\n",
    "    cv_image = bridge.imgmsg_to_cv2(ros_image, \"bgr8\")\n",
    "  except CvBridgeError as e:\n",
    "      print(e)\n",
    "  #from now on, you can work exactly like with opencv\n",
    "  (rows,cols,channels) = cv_image.shape\n",
    "  if cols > 200 and rows > 200 :\n",
    "      cv2.circle(cv_image, (100,100),90, 255)\n",
    "  font = cv2.FONT_HERSHEY_SIMPLEX\n",
    "  cv2.putText(cv_image,'Webcam Activated with ROS & OpenCV!',(10,350), font, 1,(255,255,255),2,cv2.LINE_AA)\n",
    "  cv2.imshow(\"Image window\", cv_image)\n",
    "  cv2.waitKey(3)\n",
    "\n",
    "  \n",
    "def main(args):\n",
    "  rospy.init_node('image_converter', anonymous=True)\n",
    "  #for turtlebot3 waffle\n",
    "  #image_topic=\"/camera/rgb/image_raw\"\n",
    "  #for usb cam\n",
    "  #image_topic=\"/usb_cam/image_raw\"\n",
    "  image_sub = rospy.Subscriber(\"/camera/rgb/image_raw\",Image, image_callback)\n",
    "  try:\n",
    "    rospy.spin()\n",
    "  except KeyboardInterrupt:\n",
    "    print(\"Shutting down\")\n",
    "  cv2.destroyAllWindows()\n",
    "\n",
    "if __name__ == '__main__':\n",
    "    main(sys.argv)"
   ]
  },
  {
   "cell_type": "markdown",
   "metadata": {},
   "source": [
    "- spawn the turtle3 robot in a physical environment and publish the image of the simulated camera with a sensor_msgs/Image message type in /camera/rgb/image_raw topic."
   ]
  },
  {
   "cell_type": "code",
   "execution_count": null,
   "metadata": {},
   "outputs": [],
   "source": [
    "roslaunch turtlebot3_gazebo turtlebot3_world.launch"
   ]
  },
  {
   "cell_type": "code",
   "execution_count": null,
   "metadata": {},
   "outputs": [],
   "source": [
    "rosrun vision tb3_image_pub_sub.py"
   ]
  },
  {
   "cell_type": "markdown",
   "metadata": {},
   "source": [
    "<img src=\"./Images/1_tb3cam.png\">"
   ]
  },
  {
   "cell_type": "markdown",
   "metadata": {},
   "source": [
    "#### USB cam device"
   ]
  },
  {
   "cell_type": "markdown",
   "metadata": {},
   "source": [
    "- select in \"Devices\" top menu the USB camera\n",
    "- add the \"USBcam_image_pub_sub.py\" file in src folder of \"vision\" package. In this file we take the corresponding topic name of ROS image"
   ]
  },
  {
   "cell_type": "code",
   "execution_count": null,
   "metadata": {},
   "outputs": [],
   "source": [
    "roscore"
   ]
  },
  {
   "cell_type": "markdown",
   "metadata": {},
   "source": [
    "To publish the image uses the \"usb_cam\" package already installed: http://wiki.ros.org/usb_cam"
   ]
  },
  {
   "cell_type": "code",
   "execution_count": null,
   "metadata": {},
   "outputs": [],
   "source": [
    "rosrun usb_cam usb_cam_node _pixel_format:=yuyv"
   ]
  },
  {
   "cell_type": "markdown",
   "metadata": {},
   "source": [
    "- To verify if the USB cam is working, use \"image_view\" package: http://wiki.ros.org/image_view"
   ]
  },
  {
   "cell_type": "code",
   "execution_count": null,
   "metadata": {},
   "outputs": [],
   "source": [
    "rosrun image_view image_view image:=/usb_cam/image_raw _image_transport:=raw"
   ]
  },
  {
   "cell_type": "markdown",
   "metadata": {},
   "source": [
    "<img src=\"./Images/1_USB3.png\">"
   ]
  },
  {
   "cell_type": "markdown",
   "metadata": {},
   "source": [
    "- You can run our python program"
   ]
  },
  {
   "cell_type": "code",
   "execution_count": null,
   "metadata": {},
   "outputs": [],
   "source": [
    "cd ~/rubot_opencv_ws\n",
    "rosrun vision USBcam_image_pub_sub.py "
   ]
  },
  {
   "cell_type": "markdown",
   "metadata": {},
   "source": [
    "<img src=\"./Images/1_USB4.png\">"
   ]
  },
  {
   "cell_type": "markdown",
   "metadata": {},
   "source": [
    "#### gopigo3 robot\n",
    "\n",
    "In gopigo3_rbpi_ws you have all the packages needed for OpenCV and to activate the RBPi Camera.\n",
    "\n",
    "Follow the instructions:\n",
    "\n",
    "- In VS Code, open the PC work space \"rubot_opencv_ws\"\n",
    "- connect remotelly to the RBPi work space \"workspace/ros/session2\"\n",
    "- make the RBPi to be the master and verify the last lines of .bashrc file:\n",
    "\n"
   ]
  },
  {
   "cell_type": "code",
   "execution_count": null,
   "metadata": {},
   "outputs": [],
   "source": [
    "source /opt/ros/melodic/setup.bash\n",
    "source ~/workspace/ros/session2/devel/setup.sh\n",
    "export ROS_IP=192.168.4.1\n",
    "export ROS_MASTER_URI=http://192.168.4.1:11311"
   ]
  },
  {
   "cell_type": "markdown",
   "metadata": {},
   "source": [
    "- run a launch file to open raspicam "
   ]
  },
  {
   "cell_type": "code",
   "execution_count": null,
   "metadata": {},
   "outputs": [],
   "source": [
    "roslaunch raspicam_node camerav2_1280x960_10fps.launch enable_raw:=true camera_frame_id:=\"laser_frame\""
   ]
  },
  {
   "cell_type": "markdown",
   "metadata": {},
   "source": [
    "- in PC workspace verify the last lines in .bashrc file"
   ]
  },
  {
   "cell_type": "code",
   "execution_count": null,
   "metadata": {},
   "outputs": [],
   "source": [
    "source /opt/ros/melodic/setup.bash\n",
    "source ~/rubot_opencv_ws/devel/setup.bash\n",
    "export ROS_IP=192.168.4.5\n",
    "export ROS_MASTER_URI=http://192.168.4.1:11311\n"
   ]
  },
  {
   "cell_type": "markdown",
   "metadata": {},
   "source": [
    "- verify that the topic name where RBPi cam is publishing is: /raspicam_node/image\n",
    "- generate the \"RBPcam_image_pub_sub.py\" python file accordingly\n",
    "- execute the python file"
   ]
  },
  {
   "cell_type": "code",
   "execution_count": null,
   "metadata": {},
   "outputs": [],
   "source": [
    "cd ~/rubot_opencv_ws\n",
    "rosrun vision RBPcam_image_pub_sub.py"
   ]
  },
  {
   "cell_type": "markdown",
   "metadata": {},
   "source": [
    "<img src=\"./Images/1_RBPcam.png\">"
   ]
  }
 ],
 "metadata": {
  "interpreter": {
   "hash": "767d51c1340bd893661ea55ea3124f6de3c7a262a8b4abca0554b478b1e2ff90"
  },
  "kernelspec": {
   "display_name": "Python 2.7.17 64-bit",
   "name": "python3"
  },
  "language_info": {
   "codemirror_mode": {
    "name": "ipython",
    "version": 3
   },
   "file_extension": ".py",
   "mimetype": "text/x-python",
   "name": "python",
   "nbconvert_exporter": "python",
   "pygments_lexer": "ipython3",
   "version": "2.7.17"
  },
  "orig_nbformat": 2
 },
 "nbformat": 4,
 "nbformat_minor": 2
}
